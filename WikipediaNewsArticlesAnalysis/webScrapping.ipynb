{
  "nbformat": 4,
  "nbformat_minor": 0,
  "metadata": {
    "colab": {
      "provenance": []
    },
    "kernelspec": {
      "name": "python3",
      "display_name": "Python 3"
    },
    "language_info": {
      "name": "python"
    }
  },
  "cells": [
    {
      "cell_type": "code",
      "execution_count": 1,
      "metadata": {
        "colab": {
          "base_uri": "https://localhost:8080/"
        },
        "id": "eVD19dyaRSQb",
        "outputId": "d8c1ac76-e34f-4e5f-9feb-983300cc223b"
      },
      "outputs": [
        {
          "output_type": "stream",
          "name": "stdout",
          "text": [
            "Page accessed successfully.\n",
            "Title: CureDuchenne Partners with Blizzard Entertainment and World of Warcraft for Limited-Time Charity Pet Program\n",
            "\n",
            "Article Content:\n",
            "\n",
            "Inspired by \"The Remarkable Life of  Ibelin\" Documentary, Players in World of Warcraft can Support Global Nonprofit and Fund Duchenne Muscular Dystrophy Research \n",
            "NEWPORT BEACH, Calif., Oct. 25, 2024 /PRNewswire/ -- Blizzard Entertainment and the massively multiplayer online role-playing game, World of Warcraft ®, are teaming up with CureDuchenne, a global nonprofit dedicated to funding and finding a cure for Duchenne muscular dystrophy, to launch an in-game promotion that will raise funds for the nonprofit and accelerate a cure for the rare neuromuscular disease.    The charity partnership is inspired by the incredible story of Mats Steen, which was captured in the newly released award-winning Netflix (NASDAQ:NFLX) documentary, The Remarkable Life of Ibelin. Mats, a Norwegian World of Warcraft player known in game as Ibelin, suffered from Duchenne muscular dystrophy. In the wake of his death at age 25, his family discovered what they thought was a life lived in total isolation was in fact filled with joy, laughter, friendship and love through Mats' adventures in World of Warcraft. The game opened a world of community and connection his family never knew existed and gave him a rich set of friends and experiences that would not have been possible outside of the game environment. Mats was a supportive friend and trusted advisor who made a tremendous impact on the lives of all he encountered in the game.\n",
            "World of Warcraft players will have the opportunity to build on Mats' legacy and adopt a limited-edition pet in World of Warcraft to accompany them on their adventures while supporting CureDuchenne's mission of improving and extending the lives of those with Duchenne muscular dystrophy around the world. The Reven Pack, available for US$20 now through January 7, 2025, features an adorable fox pet, Reven (\"fox\" in Norwegian), for both modern World of Warcraft and Classic Progression realms. Additionally, modern WoW players will also get a transmog backpack, Reven's Comfy Carrier, complete with a sleepy Reven. One hundred percent of the purchase price will be donated to CureDuchenne to accelerate research toward a cure for Duchenne muscular dystrophy and improve care for individuals worldwide living with the disease.\n",
            "\"We are immensely grateful to Blizzard Entertainment and World of Warcraft for their partnership to fund critical research that will bring us closer to a cure for Duchenne muscular dystrophy and support families living with Duchenne around the world,\" said Debra Miller, founder and CEO of CureDuchenne. \"Mats Steen brought hope and support to so many who were lucky enough to know him but, like many with Duchenne muscular dystrophy, he left his loved ones far too soon. With the generous support of the World of Warcraft community, we will be able to help will help more boys and young men like Mats live longer, stronger lives.\"\n",
            "\"Mats Steen lived a life in World of Warcraft that he couldn't in the real world as he fought Duchenne muscular dystrophy alongside his incredible family, who I'm proud to have met and fallen in love with,\" said Holly Longdale, executive producer of World of Warcraft. \"Working with CureDuchenne for our Charity Pet Program, in honor of Mats' memory, allows us to harness the power of our phenomenal global community to bring meaningful impact to so many lives.\"\n",
            "To learn more or purchase The  Reven Pack, visit www.cureduchenne.org/worldofwarcraft. Note that buying or purchasing this digital item is a license.\n",
            " Now through January 7, 2025, 10:00 AM PDT, Blizzard Entertainment will donate 100% of the purchase price of \"The Reven Pack\" digital bundle to CureDuchenne, less any chargebacks, refunds, transaction fees, and Value Added Taxes (VAT), or other similar taxes paid. These versions of items are special editions available as part of this initiative only. Buying or purchasing this digital item is a license.\n",
            "About  CureDuchenneCureDuchenne is the global nonprofit leader in research, patient care, and innovation for improving and extending the lives of those with Duchenne muscular dystrophy, a progressive neuromuscular disease that affects about 300,000 individuals around the world. CureDuchenne accelerates research toward a cure for Duchenne by funding early-stage science  with the goal of bringing treatments to everyone  affected by Duchenne, no matter where they live, what language they speak or their financial status.  We also support families through education and outreach and improve standards of care for individuals worldwide with Duchenne, including those in underserved communities. Visit  www.cureduchenne.org to learn more.\n",
            "About Blizzard Entertainment, Inc.Best known for iconic video game universes including Warcraft ®, Overwatch ®, Diablo ®, and StarCraft ®, Blizzard Entertainment, Inc. (www.blizzard.com), a division of Activision Blizzard (NASDAQ:ATVI), which was acquired by Microsoft (NASDAQ: NASDAQ:MSFT), is a premier developer and publisher of entertainment experiences. Blizzard Entertainment has created some of the industry's most critically acclaimed and genre-defining games over the last 30 years, with a track record that includes multiple Game of the Year awards. Blizzard Entertainment engages tens of millions of players around the world with titles available on PC via Battle.net ®, Xbox, PlayStation, Nintendo  Switch  (NYSE:SWCH), iOS, and Android.  \n",
            "Inspired by \"The Remarkable Life of  Ibelin\" Documentary, Players in World of Warcraft can Support Global Nonprofit and Fund Duchenne Muscular Dystrophy Research \n",
            "NEWPORT BEACH, Calif., Oct. 25, 2024 /PRNewswire/ -- Blizzard Entertainment and the massively multiplayer online role-playing game, World of Warcraft ®, are teaming up with CureDuchenne, a global nonprofit dedicated to funding and finding a cure for Duchenne muscular dystrophy, to launch an in-game promotion that will raise funds for the nonprofit and accelerate a cure for the rare neuromuscular disease.    The charity partnership is inspired by the incredible story of Mats Steen, which was captured in the newly released award-winning Netflix (NASDAQ:NFLX) documentary, The Remarkable Life of Ibelin. Mats, a Norwegian World of Warcraft player known in game as Ibelin, suffered from Duchenne muscular dystrophy. In the wake of his death at age 25, his family discovered what they thought was a life lived in total isolation was in fact filled with joy, laughter, friendship and love through Mats' adventures in World of Warcraft. The game opened a world of community and connection his family never knew existed and gave him a rich set of friends and experiences that would not have been possible outside of the game environment. Mats was a supportive friend and trusted advisor who made a tremendous impact on the lives of all he encountered in the game.\n",
            "World of Warcraft players will have the opportunity to build on Mats' legacy and adopt a limited-edition pet in World of Warcraft to accompany them on their adventures while supporting CureDuchenne's mission of improving and extending the lives of those with Duchenne muscular dystrophy around the world. The Reven Pack, available for US$20 now through January 7, 2025, features an adorable fox pet, Reven (\"fox\" in Norwegian), for both modern World of Warcraft and Classic Progression realms. Additionally, modern WoW players will also get a transmog backpack, Reven's Comfy Carrier, complete with a sleepy Reven. One hundred percent of the purchase price will be donated to CureDuchenne to accelerate research toward a cure for Duchenne muscular dystrophy and improve care for individuals worldwide living with the disease.\n",
            "\"We are immensely grateful to Blizzard Entertainment and World of Warcraft for their partnership to fund critical research that will bring us closer to a cure for Duchenne muscular dystrophy and support families living with Duchenne around the world,\" said Debra Miller, founder and CEO of CureDuchenne. \"Mats Steen brought hope and support to so many who were lucky enough to know him but, like many with Duchenne muscular dystrophy, he left his loved ones far too soon. With the generous support of the World of Warcraft community, we will be able to help will help more boys and young men like Mats live longer, stronger lives.\"\n",
            "\"Mats Steen lived a life in World of Warcraft that he couldn't in the real world as he fought Duchenne muscular dystrophy alongside his incredible family, who I'm proud to have met and fallen in love with,\" said Holly Longdale, executive producer of World of Warcraft. \"Working with CureDuchenne for our Charity Pet Program, in honor of Mats' memory, allows us to harness the power of our phenomenal global community to bring meaningful impact to so many lives.\"\n",
            "To learn more or purchase The  Reven Pack, visit www.cureduchenne.org/worldofwarcraft. Note that buying or purchasing this digital item is a license.\n",
            " Now through January 7, 2025, 10:00 AM PDT, Blizzard Entertainment will donate 100% of the purchase price of \"The Reven Pack\" digital bundle to CureDuchenne, less any chargebacks, refunds, transaction fees, and Value Added Taxes (VAT), or other similar taxes paid. These versions of items are special editions available as part of this initiative only. Buying or purchasing this digital item is a license.\n",
            "About  CureDuchenneCureDuchenne is the global nonprofit leader in research, patient care, and innovation for improving and extending the lives of those with Duchenne muscular dystrophy, a progressive neuromuscular disease that affects about 300,000 individuals around the world. CureDuchenne accelerates research toward a cure for Duchenne by funding early-stage science  with the goal of bringing treatments to everyone  affected by Duchenne, no matter where they live, what language they speak or their financial status.  We also support families through education and outreach and improve standards of care for individuals worldwide with Duchenne, including those in underserved communities. Visit  www.cureduchenne.org to learn more.\n",
            "About Blizzard Entertainment, Inc.Best known for iconic video game universes including Warcraft ®, Overwatch ®, Diablo ®, and StarCraft ®, Blizzard Entertainment, Inc. (www.blizzard.com), a division of Activision Blizzard (NASDAQ:ATVI), which was acquired by Microsoft (NASDAQ: NASDAQ:MSFT), is a premier developer and publisher of entertainment experiences. Blizzard Entertainment has created some of the industry's most critically acclaimed and genre-defining games over the last 30 years, with a track record that includes multiple Game of the Year awards. Blizzard Entertainment engages tens of millions of players around the world with titles available on PC via Battle.net ®, Xbox, PlayStation, Nintendo  Switch  (NYSE:SWCH), iOS, and Android.  \n",
            "Inspired by \"The Remarkable Life of  Ibelin\" Documentary, Players in World of Warcraft can Support Global Nonprofit and Fund Duchenne Muscular Dystrophy Research \n",
            "NEWPORT BEACH, Calif., Oct. 25, 2024 /PRNewswire/ -- Blizzard Entertainment and the massively multiplayer online role-playing game, World of Warcraft ®, are teaming up with CureDuchenne, a global nonprofit dedicated to funding and finding a cure for Duchenne muscular dystrophy, to launch an in-game promotion that will raise funds for the nonprofit and accelerate a cure for the rare neuromuscular disease.\n",
            " \n",
            "The charity partnership is inspired by the incredible story of Mats Steen, which was captured in the newly released award-winning Netflix (NASDAQ:NFLX) documentary, The Remarkable Life of Ibelin. Mats, a Norwegian World of Warcraft player known in game as Ibelin, suffered from Duchenne muscular dystrophy. In the wake of his death at age 25, his family discovered what they thought was a life lived in total isolation was in fact filled with joy, laughter, friendship and love through Mats' adventures in World of Warcraft. The game opened a world of community and connection his family never knew existed and gave him a rich set of friends and experiences that would not have been possible outside of the game environment. Mats was a supportive friend and trusted advisor who made a tremendous impact on the lives of all he encountered in the game.\n",
            "World of Warcraft players will have the opportunity to build on Mats' legacy and adopt a limited-edition pet in World of Warcraft to accompany them on their adventures while supporting CureDuchenne's mission of improving and extending the lives of those with Duchenne muscular dystrophy around the world. The Reven Pack, available for US$20 now through January 7, 2025, features an adorable fox pet, Reven (\"fox\" in Norwegian), for both modern World of Warcraft and Classic Progression realms. Additionally, modern WoW players will also get a transmog backpack, Reven's Comfy Carrier, complete with a sleepy Reven. One hundred percent of the purchase price will be donated to CureDuchenne to accelerate research toward a cure for Duchenne muscular dystrophy and improve care for individuals worldwide living with the disease.\n",
            "\"We are immensely grateful to Blizzard Entertainment and World of Warcraft for their partnership to fund critical research that will bring us closer to a cure for Duchenne muscular dystrophy and support families living with Duchenne around the world,\" said Debra Miller, founder and CEO of CureDuchenne. \"Mats Steen brought hope and support to so many who were lucky enough to know him but, like many with Duchenne muscular dystrophy, he left his loved ones far too soon. With the generous support of the World of Warcraft community, we will be able to help will help more boys and young men like Mats live longer, stronger lives.\"\n",
            "\"Mats Steen lived a life in World of Warcraft that he couldn't in the real world as he fought Duchenne muscular dystrophy alongside his incredible family, who I'm proud to have met and fallen in love with,\" said Holly Longdale, executive producer of World of Warcraft. \"Working with CureDuchenne for our Charity Pet Program, in honor of Mats' memory, allows us to harness the power of our phenomenal global community to bring meaningful impact to so many lives.\"\n",
            "To learn more or purchase The  Reven Pack, visit www.cureduchenne.org/worldofwarcraft. Note that buying or purchasing this digital item is a license.\n",
            " Now through January 7, 2025, 10:00 AM PDT, Blizzard Entertainment will donate 100% of the purchase price of \"The Reven Pack\" digital bundle to CureDuchenne, less any chargebacks, refunds, transaction fees, and Value Added Taxes (VAT), or other similar taxes paid. These versions of items are special editions available as part of this initiative only. Buying or purchasing this digital item is a license.\n",
            "About  CureDuchenneCureDuchenne is the global nonprofit leader in research, patient care, and innovation for improving and extending the lives of those with Duchenne muscular dystrophy, a progressive neuromuscular disease that affects about 300,000 individuals around the world. CureDuchenne accelerates research toward a cure for Duchenne by funding early-stage science  with the goal of bringing treatments to everyone  affected by Duchenne, no matter where they live, what language they speak or their financial status.  We also support families through education and outreach and improve standards of care for individuals worldwide with Duchenne, including those in underserved communities. Visit  www.cureduchenne.org to learn more.\n",
            "About Blizzard Entertainment, Inc.Best known for iconic video game universes including Warcraft ®, Overwatch ®, Diablo ®, and StarCraft ®, Blizzard Entertainment, Inc. (www.blizzard.com), a division of Activision Blizzard (NASDAQ:ATVI), which was acquired by Microsoft (NASDAQ: NASDAQ:MSFT), is a premier developer and publisher of entertainment experiences. Blizzard Entertainment has created some of the industry's most critically acclaimed and genre-defining games over the last 30 years, with a track record that includes multiple Game of the Year awards. Blizzard Entertainment engages tens of millions of players around the world with titles available on PC via Battle.net ®, Xbox, PlayStation, Nintendo  Switch  (NYSE:SWCH), iOS, and Android.\n",
            " \n",
            "\n"
          ]
        }
      ],
      "source": [
        "import requests\n",
        "from bs4 import BeautifulSoup\n",
        "\n",
        "def scrape_nyt_article(url):\n",
        "    # Set custom headers including a User-Agent\n",
        "    headers = {\n",
        "        'User-Agent': 'Mozilla/5.0 (Windows NT 10.0; Win64; x64) AppleWebKit/537.36 (KHTML, like Gecko) Chrome/117.0.0.0 Safari/537.36'\n",
        "    }\n",
        "\n",
        "    # Send a GET request to the URL\n",
        "    try:\n",
        "        response = requests.get(url, headers=headers)\n",
        "\n",
        "        # Check if the response indicates a login requirement\n",
        "        if response.status_code == 401:  # Unauthorized\n",
        "            print(\"Login is required to access this page.\")\n",
        "            return None\n",
        "        elif response.status_code == 403:  # Forbidden\n",
        "            print(\"Access to this page is forbidden. You may need to check for login requirements or scraping restrictions.\")\n",
        "            return None\n",
        "        elif response.status_code == 200:  # Successful response\n",
        "            print(\"Page accessed successfully.\")\n",
        "            return response.text\n",
        "        else:\n",
        "            print(f\"Failed to access the page. Status code: {response.status_code}\")\n",
        "            return None\n",
        "\n",
        "    except requests.exceptions.RequestException as e:\n",
        "        print(f\"An error occurred: {e}\")\n",
        "        return None\n",
        "\n",
        "def parse_article(content):\n",
        "    # Parse the article content using BeautifulSoup\n",
        "    soup = BeautifulSoup(content, 'html.parser')\n",
        "\n",
        "    # Safely extract title\n",
        "    title_tag = soup.find('h1')\n",
        "    title = title_tag.get_text() if title_tag else \"No Title Found\"\n",
        "\n",
        "    # Safely extract paragraphs\n",
        "    paragraphs = soup.find_all('p')\n",
        "    article_text = \"\\n\".join([para.get_text() for para in paragraphs if para])  # Added check if para exists\n",
        "\n",
        "    return title, article_text\n",
        "\n",
        "# URL of the New York Times article\n",
        "url = \"https://www.investing.com/news/press-releases/cureduchenne-partners-with-blizzard-entertainment-and-world-of-warcraft-for-limitedtime-charity-pet-program-93CH-3684052\" # Scrape the article\n",
        "page_content = scrape_nyt_article(url)\n",
        "\n",
        "if page_content:\n",
        "    # Parse and print the article content\n",
        "    title, article_text = parse_article(page_content)\n",
        "    print(f\"Title: {title}\\n\")\n",
        "    print(\"Article Content:\\n\")\n",
        "    print(article_text)\n",
        "\n"
      ]
    }
  ]
}