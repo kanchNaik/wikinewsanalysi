{
 "cells": [
  {
   "cell_type": "code",
   "execution_count": 1,
   "metadata": {},
   "outputs": [
    {
     "name": "stderr",
     "output_type": "stream",
     "text": [
      "c:\\Users\\Yashasvi\\Documents\\wiki_news\\wiki_project\\WikipediaNewsArticlesAnalysis\\.venv\\Lib\\site-packages\\tqdm\\auto.py:21: TqdmWarning: IProgress not found. Please update jupyter and ipywidgets. See https://ipywidgets.readthedocs.io/en/stable/user_install.html\n",
      "  from .autonotebook import tqdm as notebook_tqdm\n"
     ]
    },
    {
     "name": "stdout",
     "output_type": "stream",
     "text": [
      "hello\n"
     ]
    }
   ],
   "source": [
    "\n",
    "from content_extractor import ContentExtractor\n",
    "from page_news import PageNews\n",
    "from summarization import Summarizer\n",
    "\n"
   ]
  },
  {
   "cell_type": "code",
   "execution_count": 2,
   "metadata": {},
   "outputs": [],
   "source": [
    "\n",
    "summarizer = Summarizer()"
   ]
  },
  {
   "cell_type": "code",
   "execution_count": 3,
   "metadata": {},
   "outputs": [
    {
     "name": "stderr",
     "output_type": "stream",
     "text": [
      "Input ids are automatically padded from 3 to 1024 to be a multiple of `config.attention_window`: 1024\n"
     ]
    },
    {
     "data": {
      "text/plain": [
       "' this is an updated version of a letter to the editor .    \\n # 1#2#3#4#1 * # 2 * , # 3 ( # 4 ) # 1#2#3#4#1 * # 2 * , # 3 ( # 4 ) # 1#2#3#4#1 * # 2 * , # 3 ( # 4 ) # 1#2#3#4#1 * # 2 * , # 3 ( # 4 ) # 1#2#3#4#1 * # 2 * , # 3 ( # 4 ) # 1#2#3#4#1 * # 2 * , # 3 ( # 4 ) # 1#2#3#4#1 * # 2 * , # 3 ( # 4 ) # 1#2#3#4#1 * # 2 * , # 3 ( # 4 ) # 1#2#3#4#1 * # 2 * , # 3 ( # 4 ) # 1#2#3#4#1 * # 2 * , # 3 ( # 4 ) # 1#2#3#4#1 * # 2 * , # 3 ( # 4 ) #'"
      ]
     },
     "execution_count": 3,
     "metadata": {},
     "output_type": "execute_result"
    }
   ],
   "source": [
    "summarizer.summarize_led(\"hello\")"
   ]
  },
  {
   "cell_type": "code",
   "execution_count": 4,
   "metadata": {},
   "outputs": [],
   "source": [
    "\n",
    "\n",
    "page_name = \"Donald Trump\"\n",
    "page_news_obj = PageNews(summarizer, page_name)\n",
    "\n"
   ]
  },
  {
   "cell_type": "code",
   "execution_count": 5,
   "metadata": {},
   "outputs": [
    {
     "ename": "LangDetectException",
     "evalue": "No features in text.",
     "output_type": "error",
     "traceback": [
      "\u001b[1;31m---------------------------------------------------------------------------\u001b[0m",
      "\u001b[1;31mLangDetectException\u001b[0m                       Traceback (most recent call last)",
      "Cell \u001b[1;32mIn[5], line 1\u001b[0m\n\u001b[1;32m----> 1\u001b[0m json_pages \u001b[38;5;241m=\u001b[39m \u001b[43mpage_news_obj\u001b[49m\u001b[38;5;241;43m.\u001b[39;49m\u001b[43mfetch_news_article\u001b[49m\u001b[43m(\u001b[49m\u001b[38;5;241;43m5\u001b[39;49m\u001b[43m)\u001b[49m\n\u001b[0;32m      2\u001b[0m \u001b[38;5;66;03m# print(json_pages, len(json_pages))\u001b[39;00m\n",
      "File \u001b[1;32mc:\\Users\\Yashasvi\\Documents\\wiki_news\\wiki_project\\WikipediaNewsArticlesAnalysis\\page_news.py:97\u001b[0m, in \u001b[0;36mPageNews.fetch_news_article\u001b[1;34m(self, top_k)\u001b[0m\n\u001b[0;32m     94\u001b[0m         logging\u001b[38;5;241m.\u001b[39merror(\u001b[38;5;124mf\u001b[39m\u001b[38;5;124m\"\u001b[39m\u001b[38;5;124mFailed to fetch data from \u001b[39m\u001b[38;5;132;01m{\u001b[39;00mapi_url\u001b[38;5;132;01m}\u001b[39;00m\u001b[38;5;124m: \u001b[39m\u001b[38;5;132;01m{\u001b[39;00me\u001b[38;5;132;01m}\u001b[39;00m\u001b[38;5;124m\"\u001b[39m)\n\u001b[0;32m     95\u001b[0m         api_response_objects\u001b[38;5;241m.\u001b[39mappend({\u001b[38;5;124m\"\u001b[39m\u001b[38;5;124merror\u001b[39m\u001b[38;5;124m\"\u001b[39m: \u001b[38;5;28mstr\u001b[39m(e)})\n\u001b[1;32m---> 97\u001b[0m urls \u001b[38;5;241m=\u001b[39m \u001b[38;5;28;43mself\u001b[39;49m\u001b[38;5;241;43m.\u001b[39;49m\u001b[43mfetch_urls\u001b[49m\u001b[43m(\u001b[49m\u001b[43mapi_response_objects\u001b[49m\u001b[43m)\u001b[49m\n\u001b[0;32m     98\u001b[0m \u001b[38;5;28mself\u001b[39m\u001b[38;5;241m.\u001b[39marticles \u001b[38;5;241m=\u001b[39m [\n\u001b[0;32m     99\u001b[0m     {\n\u001b[0;32m    100\u001b[0m         \u001b[38;5;124m\"\u001b[39m\u001b[38;5;124murl\u001b[39m\u001b[38;5;124m\"\u001b[39m: url,\n\u001b[1;32m   (...)\u001b[0m\n\u001b[0;32m    104\u001b[0m     \u001b[38;5;28;01mfor\u001b[39;00m url \u001b[38;5;129;01min\u001b[39;00m urls[:top_k]\n\u001b[0;32m    105\u001b[0m ]\n\u001b[0;32m    106\u001b[0m \u001b[38;5;28mprint\u001b[39m(\u001b[38;5;124m\"\u001b[39m\u001b[38;5;124mFetched data from APIs...\u001b[39m\u001b[38;5;124m\"\u001b[39m)\n",
      "File \u001b[1;32mc:\\Users\\Yashasvi\\Documents\\wiki_news\\wiki_project\\WikipediaNewsArticlesAnalysis\\page_news.py:73\u001b[0m, in \u001b[0;36mPageNews.fetch_urls\u001b[1;34m(self, data)\u001b[0m\n\u001b[0;32m     71\u001b[0m \u001b[38;5;28;01melif\u001b[39;00m \u001b[38;5;28misinstance\u001b[39m(data, \u001b[38;5;28mlist\u001b[39m):\n\u001b[0;32m     72\u001b[0m     \u001b[38;5;28;01mfor\u001b[39;00m item \u001b[38;5;129;01min\u001b[39;00m data:\n\u001b[1;32m---> 73\u001b[0m         urls\u001b[38;5;241m.\u001b[39mextend(\u001b[38;5;28;43mself\u001b[39;49m\u001b[38;5;241;43m.\u001b[39;49m\u001b[43mfetch_urls\u001b[49m\u001b[43m(\u001b[49m\u001b[43mitem\u001b[49m\u001b[43m)\u001b[49m)\n\u001b[0;32m     74\u001b[0m \u001b[38;5;28;01mreturn\u001b[39;00m urls\n",
      "File \u001b[1;32mc:\\Users\\Yashasvi\\Documents\\wiki_news\\wiki_project\\WikipediaNewsArticlesAnalysis\\page_news.py:70\u001b[0m, in \u001b[0;36mPageNews.fetch_urls\u001b[1;34m(self, data)\u001b[0m\n\u001b[0;32m     68\u001b[0m                 urls\u001b[38;5;241m.\u001b[39mappend(value)\n\u001b[0;32m     69\u001b[0m         \u001b[38;5;28;01melse\u001b[39;00m:\n\u001b[1;32m---> 70\u001b[0m             urls\u001b[38;5;241m.\u001b[39mextend(\u001b[38;5;28;43mself\u001b[39;49m\u001b[38;5;241;43m.\u001b[39;49m\u001b[43mfetch_urls\u001b[49m\u001b[43m(\u001b[49m\u001b[43mvalue\u001b[49m\u001b[43m)\u001b[49m)\n\u001b[0;32m     71\u001b[0m \u001b[38;5;28;01melif\u001b[39;00m \u001b[38;5;28misinstance\u001b[39m(data, \u001b[38;5;28mlist\u001b[39m):\n\u001b[0;32m     72\u001b[0m     \u001b[38;5;28;01mfor\u001b[39;00m item \u001b[38;5;129;01min\u001b[39;00m data:\n",
      "File \u001b[1;32mc:\\Users\\Yashasvi\\Documents\\wiki_news\\wiki_project\\WikipediaNewsArticlesAnalysis\\page_news.py:73\u001b[0m, in \u001b[0;36mPageNews.fetch_urls\u001b[1;34m(self, data)\u001b[0m\n\u001b[0;32m     71\u001b[0m \u001b[38;5;28;01melif\u001b[39;00m \u001b[38;5;28misinstance\u001b[39m(data, \u001b[38;5;28mlist\u001b[39m):\n\u001b[0;32m     72\u001b[0m     \u001b[38;5;28;01mfor\u001b[39;00m item \u001b[38;5;129;01min\u001b[39;00m data:\n\u001b[1;32m---> 73\u001b[0m         urls\u001b[38;5;241m.\u001b[39mextend(\u001b[38;5;28;43mself\u001b[39;49m\u001b[38;5;241;43m.\u001b[39;49m\u001b[43mfetch_urls\u001b[49m\u001b[43m(\u001b[49m\u001b[43mitem\u001b[49m\u001b[43m)\u001b[49m)\n\u001b[0;32m     74\u001b[0m \u001b[38;5;28;01mreturn\u001b[39;00m urls\n",
      "File \u001b[1;32mc:\\Users\\Yashasvi\\Documents\\wiki_news\\wiki_project\\WikipediaNewsArticlesAnalysis\\page_news.py:67\u001b[0m, in \u001b[0;36mPageNews.fetch_urls\u001b[1;34m(self, data)\u001b[0m\n\u001b[0;32m     65\u001b[0m \u001b[38;5;28;01mfor\u001b[39;00m key, value \u001b[38;5;129;01min\u001b[39;00m data\u001b[38;5;241m.\u001b[39mitems():\n\u001b[0;32m     66\u001b[0m     \u001b[38;5;28;01mif\u001b[39;00m key \u001b[38;5;241m==\u001b[39m \u001b[38;5;124m'\u001b[39m\u001b[38;5;124murl\u001b[39m\u001b[38;5;124m'\u001b[39m \u001b[38;5;129;01mand\u001b[39;00m \u001b[38;5;28misinstance\u001b[39m(value, \u001b[38;5;28mstr\u001b[39m):\n\u001b[1;32m---> 67\u001b[0m          \u001b[38;5;28;01mif\u001b[39;00m \u001b[43mdetect\u001b[49m\u001b[43m(\u001b[49m\u001b[43mvalue\u001b[49m\u001b[43m)\u001b[49m \u001b[38;5;241m==\u001b[39m \u001b[38;5;124m\"\u001b[39m\u001b[38;5;124men\u001b[39m\u001b[38;5;124m\"\u001b[39m:\n\u001b[0;32m     68\u001b[0m             urls\u001b[38;5;241m.\u001b[39mappend(value)\n\u001b[0;32m     69\u001b[0m     \u001b[38;5;28;01melse\u001b[39;00m:\n",
      "File \u001b[1;32mc:\\Users\\Yashasvi\\Documents\\wiki_news\\wiki_project\\WikipediaNewsArticlesAnalysis\\.venv\\Lib\\site-packages\\langdetect\\detector_factory.py:130\u001b[0m, in \u001b[0;36mdetect\u001b[1;34m(text)\u001b[0m\n\u001b[0;32m    128\u001b[0m detector \u001b[38;5;241m=\u001b[39m _factory\u001b[38;5;241m.\u001b[39mcreate()\n\u001b[0;32m    129\u001b[0m detector\u001b[38;5;241m.\u001b[39mappend(text)\n\u001b[1;32m--> 130\u001b[0m \u001b[38;5;28;01mreturn\u001b[39;00m \u001b[43mdetector\u001b[49m\u001b[38;5;241;43m.\u001b[39;49m\u001b[43mdetect\u001b[49m\u001b[43m(\u001b[49m\u001b[43m)\u001b[49m\n",
      "File \u001b[1;32mc:\\Users\\Yashasvi\\Documents\\wiki_news\\wiki_project\\WikipediaNewsArticlesAnalysis\\.venv\\Lib\\site-packages\\langdetect\\detector.py:136\u001b[0m, in \u001b[0;36mDetector.detect\u001b[1;34m(self)\u001b[0m\n\u001b[0;32m    132\u001b[0m \u001b[38;5;28;01mdef\u001b[39;00m \u001b[38;5;21mdetect\u001b[39m(\u001b[38;5;28mself\u001b[39m):\n\u001b[0;32m    133\u001b[0m \u001b[38;5;250m    \u001b[39m\u001b[38;5;124;03m'''Detect language of the target text and return the language name\u001b[39;00m\n\u001b[0;32m    134\u001b[0m \u001b[38;5;124;03m    which has the highest probability.\u001b[39;00m\n\u001b[0;32m    135\u001b[0m \u001b[38;5;124;03m    '''\u001b[39;00m\n\u001b[1;32m--> 136\u001b[0m     probabilities \u001b[38;5;241m=\u001b[39m \u001b[38;5;28;43mself\u001b[39;49m\u001b[38;5;241;43m.\u001b[39;49m\u001b[43mget_probabilities\u001b[49m\u001b[43m(\u001b[49m\u001b[43m)\u001b[49m\n\u001b[0;32m    137\u001b[0m     \u001b[38;5;28;01mif\u001b[39;00m probabilities:\n\u001b[0;32m    138\u001b[0m         \u001b[38;5;28;01mreturn\u001b[39;00m probabilities[\u001b[38;5;241m0\u001b[39m]\u001b[38;5;241m.\u001b[39mlang\n",
      "File \u001b[1;32mc:\\Users\\Yashasvi\\Documents\\wiki_news\\wiki_project\\WikipediaNewsArticlesAnalysis\\.venv\\Lib\\site-packages\\langdetect\\detector.py:143\u001b[0m, in \u001b[0;36mDetector.get_probabilities\u001b[1;34m(self)\u001b[0m\n\u001b[0;32m    141\u001b[0m \u001b[38;5;28;01mdef\u001b[39;00m \u001b[38;5;21mget_probabilities\u001b[39m(\u001b[38;5;28mself\u001b[39m):\n\u001b[0;32m    142\u001b[0m     \u001b[38;5;28;01mif\u001b[39;00m \u001b[38;5;28mself\u001b[39m\u001b[38;5;241m.\u001b[39mlangprob \u001b[38;5;129;01mis\u001b[39;00m \u001b[38;5;28;01mNone\u001b[39;00m:\n\u001b[1;32m--> 143\u001b[0m         \u001b[38;5;28;43mself\u001b[39;49m\u001b[38;5;241;43m.\u001b[39;49m\u001b[43m_detect_block\u001b[49m\u001b[43m(\u001b[49m\u001b[43m)\u001b[49m\n\u001b[0;32m    144\u001b[0m     \u001b[38;5;28;01mreturn\u001b[39;00m \u001b[38;5;28mself\u001b[39m\u001b[38;5;241m.\u001b[39m_sort_probability(\u001b[38;5;28mself\u001b[39m\u001b[38;5;241m.\u001b[39mlangprob)\n",
      "File \u001b[1;32mc:\\Users\\Yashasvi\\Documents\\wiki_news\\wiki_project\\WikipediaNewsArticlesAnalysis\\.venv\\Lib\\site-packages\\langdetect\\detector.py:150\u001b[0m, in \u001b[0;36mDetector._detect_block\u001b[1;34m(self)\u001b[0m\n\u001b[0;32m    148\u001b[0m ngrams \u001b[38;5;241m=\u001b[39m \u001b[38;5;28mself\u001b[39m\u001b[38;5;241m.\u001b[39m_extract_ngrams()\n\u001b[0;32m    149\u001b[0m \u001b[38;5;28;01mif\u001b[39;00m \u001b[38;5;129;01mnot\u001b[39;00m ngrams:\n\u001b[1;32m--> 150\u001b[0m     \u001b[38;5;28;01mraise\u001b[39;00m LangDetectException(ErrorCode\u001b[38;5;241m.\u001b[39mCantDetectError, \u001b[38;5;124m'\u001b[39m\u001b[38;5;124mNo features in text.\u001b[39m\u001b[38;5;124m'\u001b[39m)\n\u001b[0;32m    152\u001b[0m \u001b[38;5;28mself\u001b[39m\u001b[38;5;241m.\u001b[39mlangprob \u001b[38;5;241m=\u001b[39m [\u001b[38;5;241m0.0\u001b[39m] \u001b[38;5;241m*\u001b[39m \u001b[38;5;28mlen\u001b[39m(\u001b[38;5;28mself\u001b[39m\u001b[38;5;241m.\u001b[39mlanglist)\n\u001b[0;32m    154\u001b[0m \u001b[38;5;28mself\u001b[39m\u001b[38;5;241m.\u001b[39mrandom\u001b[38;5;241m.\u001b[39mseed(\u001b[38;5;28mself\u001b[39m\u001b[38;5;241m.\u001b[39mseed)\n",
      "\u001b[1;31mLangDetectException\u001b[0m: No features in text."
     ]
    }
   ],
   "source": [
    "\n",
    "json_pages = page_news_obj.fetch_news_article(5)\n",
    "# print(json_pages, len(json_pages))\n"
   ]
  },
  {
   "cell_type": "code",
   "execution_count": null,
   "metadata": {},
   "outputs": [
    {
     "data": {
      "text/plain": [
       "'Trump paradoksu'"
      ]
     },
     "execution_count": 6,
     "metadata": {},
     "output_type": "execute_result"
    }
   ],
   "source": [
    "import json\n",
    "json_pages_parsed = json.loads(json_pages)\n",
    "json_pages_parsed[0][\"title\"]"
   ]
  },
  {
   "cell_type": "code",
   "execution_count": null,
   "metadata": {},
   "outputs": [
    {
     "data": {
      "text/plain": [
       "5"
      ]
     },
     "execution_count": 7,
     "metadata": {},
     "output_type": "execute_result"
    }
   ],
   "source": [
    "len(json_pages_parsed)"
   ]
  },
  {
   "cell_type": "code",
   "execution_count": null,
   "metadata": {},
   "outputs": [
    {
     "data": {
      "text/plain": [
       "[{'url': 'https://www.sabah.com.tr/yazarlar/bercan-tutar/2024/11/14/trump-paradoksu',\n",
       "  'title': 'Trump paradoksu',\n",
       "  'content': '5 Kasım\\'daki seçimlerden zaferle çıkan Donald Trump\\'ın A takımını Çin ve İran düşmanı şahinler ile siyonist fanatiklerle doldurması Ukrayna\\'da savaşı soğutma çalışmalarına hız vereceğini fakat Ortadoğu ve Asya-Pasifik cephesini ise daha da kızıştıracağını gösteriyor.\\r\\nTrump \"En ölümcül rakibimiz Çin ve İran\\'dır\" diyen eski ulusal istihbarat direktörü John Ratcliffe\\'i CIA\\'nın başına getirirken, \"Pekin bizim için varoluşsal bir tehdittir\" diyen FOX News sunucusu eski komando Pete Hegseth\\'i de savunma bakanlığına aday gösterdi.\\n\"Ukrayna\\'dan ders alıp Tayvan\\'ı silahlandırmalıyız\" diyen Florida vekili Michael Waltz ise ulusal güvenlik danışmanı olarak aday gösterildi. Trump\\'ın BM elçisi adayı Elise Stefanik ise BM Genel Sekreteri Antonio Guterres\\'e savaş açan İsrail ile aynı çizgide biri. En ilginci de Çin\\'in kara listesindeki Marco Rubio\\'nun dışişleri bakanlığına atanması.\\r\\nİsrail yanlısı bu beş isim de Pekin\\'e ve İran\\'a karşı sert bir çizgiyi savunuyor.\\r\\nÇin şahinleri arasında eski Almanya elçisi Richard Grenell, Tennessee Senatörü Bill Hagerty ve Çin mallarına 380 milyar dolarlık gümrük vergisini devreye sokan ABD\\'nin eski \\'ticaret çarı\\' Robert Lighthizer de yer alıyor.\\r\\n\\r\\n***\\r\\nBunların dışında Trump, Gazze ve Batı Şeria\\'nın ilhakını savunan Evanjelik papaz Mike Huckabee\\'yi İsrail elçisi olarak atadı. Trump\\'ın Ortadoğu özel temsilcisi de iki devletli çözümü reddeden ve Gazze\\'de barış ve ateşkese karşı çıkan gayrimenkul yatırımcısı Yahudi kökenli Steven Witkoff olacak.\\r\\nTrump\\'ın kabinesinde sadece makul iki isim var. Biri Tesla ve SpaceX CEO\\'su Elon Musk. Diğeri de biyoteknoloji girişimcisi Vivek Ramaswamy. Bu iki kişi \\'Hükümet Verimliliği Bakanlığı\\'na başkanlık edecek.\\r\\nTablo gayet açık. ABD doğrudan Çin ile savaşa girişirken vekili İsrail\\'i ise İran\\'ın üzerine sürüyor.\\r\\nBöylece Ortadoğu ile Asya- Pasifik\\'teki yıpranan hegemonyasını yeniden tesis etmeye çalışacak.\\r\\nNe var ki Trump\\'ın ikinci yönetiminde karşılaşacağı küresel ve bölgesel dinamikler 2020\\'lerin başında bıraktığı dinamiklerden hayli farklı.\\r\\nABD ve İsrail\\'in askeri güce aşırı bağımlılığı onları uluslararası sistemde daha da yalnızlaştırıyor. Üstelik Gazze ve Lübnan\\'daki vahşi soykırımlar Arap ve Müslümanların her iki güce olan öfkesini daha körükledi.\\r\\nEn önemlisi de Türkiye ve İran başta olmak üzere diğer Arap liderlerinin de ABD\\'nin \\'Büyük İsrail Planı\\'na şiddetle karşı çıkmasıdır.\\r\\n\\r\\n***\\nSayın Erdoğan\\'ın İsrail\\'in Türkiye\\'ye saldırabileceği uyarısında bulunarak bölge ülkeleriyle geliştirdiği stratejik ittifaklar, siyonist rejimin uykularını kaçırıyor.\\r\\nErdoğan, Trump\\'ın seçim zaferinin ardından Riyad\\'a giderken Suudi Arabistan Genelkurmay Başkanı Fayyad el-Ruveyli de askeri işbirliğini görüşmek üzere Tahran\\'da mevkidaşı Muhammed Bagheri ile bir araya geldi.\\r\\nDolayısıyla İran, Türkiye ve Arap ülkeleri arasındaki stratejik rekabet İsrail tehdidi nedeniyle işbirliğine dönüşüyor. Mısır\\'dan sonra Ankara, Suriye ile de normalleşme çabalarına hız verdi. Türkiye ve bölge ülkeleri dışında Rusya ve Çin de ABD\\'nin \\'Büyük İsrail Planı\\'na karşı. Çünkü bu plan iki küresel gücün bölgedeki çıkarlarına ölümcül darbeler indirecektir.\\r\\nHaliyle Trump\\'ın Çin\\'i kuşatma ve İsrail\\'i Ortadoğu\\'nun tek hegemonu yapma stratejileri en çok da Türkiye ve Rusya\\'nın vetosuna takılacaktır. Diğer ülkeleri etkisiz hale getirse de mevcut küresel jeopolitik konjonktürde ABD\\'nin Türkiye ve Rusya\\'yı \\'by-pass\\' etmesi imkânsız görünüyor. Bu paradoksu aşması için Trump\\'ın her iki ülkeyle de yeni birer sayfa açması gerekiyor. İki aktörle de uzlaşmaya mecbur. Başka çaresi yok.\\n***\\n***'},\n",
       " {'url': 'https://www.sabah.com.tr/dunya/trumptan-cin-ve-iran-karsiti-a-takimi-7156356',\n",
       "  'title': 'Trump’tan Çin ve İran karşıtı A Takımı',\n",
       "  'content': '\\n\\n \\n\\n\\n\\n\\n\\n\\n'},\n",
       " {'url': 'https://www.sabah.com.tr/gundem/2024/11/14/milli-savunma-bakani-yasar-guler-suriyeden-cekilmeyiz',\n",
       "  'title': 'Milli Savunma Bakanı Yaşar Güler: Suriye’den çekilmeyiz',\n",
       "  'content': '\\n\\n \\n\\n\\n\\n\\n\\n\\n'},\n",
       " {'url': 'https://www.fool.com.au/2024/11/14/what-the-latest-us-inflation-print-means-for-asx-200-investors/',\n",
       "  'title': 'What the latest US inflation print means for ASX 200 investors',\n",
       "  'content': '\\xa0\\n\\xa0\\nThe Motley Fool offers a range of services designed to help you achieve your financial goals. Click here to learn more about our membership options.\\nAccess all of your premium services in our\\xa0Member Centre.\\nTO MAKE THE WORLD SMARTER, HAPPIER, AND RICHER.\\nFounded in 1993 by brothers Tom and David Gardner, The Motley Fool helps millions of people attain financial freedom through our website, podcasts, books, newspaper column, radio show, and premium investing services.\\nThe ASX 200 is likely to benefit if the US Fed cuts interest rates again in December. But will it?\\nImage source: Getty Images\\nYou’re reading a free article with opinions that may differ from The Motley Fool’s Premium Investing Services. Become a Motley Fool member today to get instant access to our top analyst recommendations, in-depth research, investing resources, and more. Learn More\\nThe S&P/ASX 200 Index\\xa0(ASX: XJO) has given back some of its earlier gains but remains up 0.3% in afternoon trade on Thursday.\\nWhile there\\'s plenty happening on a company specific level for many stocks today, investors will also be mulling over the latest batch of inflation data out of the United States.\\nThat\\'s because, like it or not, what happens with inflation and interest rates in the world\\'s top economy will inevitably have a spillover impact on the Aussie economy and the ASX 200.\\nWith that said, here are the latest consumer price index (CPI) figures reported by the US Bureau of Labor Statistics yesterday, overnight Aussie time.\\nLast night\\'s CPI data indicates that the US Federal Reserve has made headway in its efforts to tamp inflation back down to its 2% target, while the final stretch may take some time yet.\\nHeadline inflation in October was up 0.2%, while monthly core inflation (which excludes volatile food and energy costs) increased by 0.3%. Both figures were broadly in line with consensus estimates, likely helping moderate any big swings higher or lower on the ASX 200 today.\\nOn an annual level, headline inflation edged higher to 2.6% while core inflation – the preferred measure for both the Fed and the RBA here in Australia – remained at 3.3%.\\nDespite inflation remaining above target, markets are placing 80% odds that the US Federal Reserve will deliver a third consecutive interest rate cut (this one at 0.25%) at the central bank\\'s next meeting on 18 December.\\nMinneapolis Fed President Neel Kashkari, who said \"inflation is headed to the right direction,\" likely buoyed rate cut sentiment.\\nCommenting on how the latest US inflation data may impact the Fed\\'s upcoming interest rate decisions and by connection, impact the ASX 200,\\xa0Lindsay Rosner, head of multi-sector fixed income investing at Goldman Sachs Asset Management, said (quoted by Bloomberg):\\nBang in-line core inflation leaves the Fed on track to cut rates in December. After a run of unseasonably hot autumn data, today\\'s number cools fears of an imminent slowdown in the pace of rate cuts.\\nBarclays economist\\xa0Pooja Sriram\\xa0sounded a slightly more cautious note.\\n\"We maintain our call for a 25-basis-point cut at the December FOMC [Federal Open Market Committee] meeting but believe that it could still be a close call, given there will be one more payroll report and CPI report,\" Sriram said.\\nBut should investors be worried about the pending return of Donald Trump to the White House potentially rekindling inflation?\\nAccording to Bloomberg strategist Edward Harrison, not today.\\n\"Any inflation from the future Trump administration\\'s policies won\\'t be felt until well into the future,\" he said.\\nThe ASX 200 has gained more than 17% over the past year as inflation in the US and Australia have both come off the boil, though Aussie investors are still awaiting the first rate cut from the RBA.\\nMotley Fool contributor Bernd Struben has no position in any of the stocks mentioned. The Motley Fool Australia\\'s parent company Motley Fool Holdings Inc. has positions in and has recommended Goldman Sachs Group. The Motley Fool Australia has no position in any of the stocks mentioned. The Motley Fool has a disclosure policy. This article contains general investment advice only (under AFSL 400691). Authorised by Scott Phillips.\\n November 14, 2024 | Bronwyn Allen \\nAMP Chief Economist, Dr Shane Oliver, offers advice on how to handle the Trump factor.\\n Read more » \\n November 14, 2024 | James Mickleboro \\nThese shares are having a tough time on Thursday. But why?\\n Read more » \\n November 14, 2024 | James Mickleboro \\nThese shares are having a strong session on Thursday. But why? Let\\'s find out.\\n Read more » \\n November 14, 2024 | Tristan Harrison \\nThis international business is growing core earnings at a strong rate.\\n Read more » \\n November 14, 2024 | Mitchell Lawler \\nAustralia\\'s biggest bank is running hot. Does it make any sense?\\n Read more » \\n November 14, 2024 | Bronwyn Allen \\nThese ASX All Ords stocks have caught the eye of brokers this week.\\n Read more » \\n November 14, 2024 | Tristan Harrison \\nThis ASX stock is appealing to me for a few different factors.\\n Read more » \\n November 14, 2024 | Bernd Struben \\nInvestors are sending these ASX healthcare stocks soaring today. But why?\\n Read more » \\nView All\\nGet the latest from The Motley Fool Australia on Google News. Go to Google News, then click \"Follow\" button to add us.\\nSign Up for Take Stock Investment news, stock ideas, and more, straight to your inbox.\\nGet Started Investing You can do it. Learn about investing with our Investing Education hub.\\nWin at Retirement Our latest articles and strategies for the post-work life you want.\\nListen to Our Podcast Hear our experts take on shares, the market & how to invest.\\nJoin Our Premium Community Join our flagship membership service, Share Advisor.\\nThe Motley Fool stands behind our products and our membership-fee-back guarantee. If for any reason you are not 100% satisfied with your premium subscription, simply notify us within the first 30 days and you won\\'t pay a cent.\\nBy taking up this offer, you will also be enrolled in our auto-renewal program, which is our way of making your ongoing subscription easier by ensuring uninterrupted service. Don\\'t worry, though – you\\'re not locked in, and can cancel your auto-renewal at any time before each \\'anniversary\\' date without question or penalty.\\nTo make the world Smarter, Happier, And Richer\\nFounded in 1993 by brothers Tom and David Gardner, The Motley Fool helps millions of people attain financial freedom through our website, podcasts, books, newspaper column, radio show and premium investing services. The Motley Fool launched its Australian presence in 2011, and since then has grown to reach over 1 million Australians.\\nRead more about us >\\n\\nBy clicking this button, you agree to our Terms of Service and Privacy Policy. We will use your email address only to keep you informed about updates to our website and about other products and services we think might interest you. You can unsubscribe at anytime. Please refer to our Financial Services Guide (FSG) for more information.\\nThis Service provides only general, and not personalised financial advice, and has not taken your personal circumstances into account. The Motley Fool Australia operates under AFSL 400691. For more information please see our Financial Services Guide. Please remember that investments can go up and down. Past performance is not necessarily indicative of future returns. The Motley Fool Australia does not guarantee the performance of, or returns on any investment.\\nWe respectfully acknowledge the Traditional Custodians of the land where we live and work and pay our respects to all Elders, past and present, of all Aboriginal and Torres Strait Islander nations.\\n© 2010 - 2023 The Motley Fool Australia Pty Ltd. All rights reserved.\\nACN: 146 988 052\\nAustralian Financial Services Licence (AFSL): 400691\\nThe Motley Fool Australia, PO Box 104, Isle of Capri, Qld 4217\\nContact Details: Phone: (03) 8592 4841 Email: [email\\xa0protected] Our friendly customer service team will happily get back to you as soon as they can.\\nNotifications\\nScott Phillips just released his 5 best stocks to buy right now and you could grab the names of these stocks instantly!'},\n",
       " {'url': 'https://www.elperiodico.com/es/internacional/20241114/elon-musk-meloni-trump-italia-111652320',\n",
       "  'title': 'Revuelo en la política italiana por la amistad entre Meloni y Elon Musk',\n",
       "  'content': 'el periódico\\nElecciones en EEUU\\nFILE PHOTO: Illustration shows Elon Musk\\'s photo and Twitter logo  / DADO RUVIC\\nIrene Savio\\nPeriodista\\nAl multimillonario Elon Musk le interesa Italia. Y a la primera ministra Giorgia Meloni le interesa Musk. La afirmación podría tacharse de distópica, si la realidad no fuera tan explícita. \"Estos jueces tienen que irse\", afirmó el magnate el martes, al respaldar a la ultraderechista en su batalla contra los tribunales italianos, que siguen rechazando el plan de la mandataria de deportar a migrantes a Albania. \"¿Viven los italianos en una democracia o una autocracia no electa toma las decisiones?\", insistió el miércoles, suscitando una ola de críticas en Italia. El \"amigo\" Musk es sin duda \"un interlocutor\" que ha hecho \"cosas extraordinarias\", había dicho Meloni en la cumbre informal europea del pasado viernes en Budapest.\\nSon las últimas de muchas veces en las que en estos meses él se ha referido a ella, y ella a él, hoy el empresario más cercano al nuevo presidente estadounidense, Donald Trump. Una figura, la de Musk, que poco a poco la extrema derecha italiana ha ido encumbrando no solo como uno de sus grandes referentes internacionales para la construcción de un nuevo relato cultural predominante, sino también como un estratégico socio de negocios que, además, ahora podría reforzar a Meloni en el contexto de las relaciones entre la UE y EEUU. \"Meloni y Musk tienen una relación privilegiada\", concluía días atrás uno de los colaboradores del surafricano, Andrea Stroppa, en declaraciones retomadas por el diario La Stampa.\\xa0\\nLa relación entre Meloni y Musk, que en esta semana desató reacciones de todo tipo (\"Italia es un país democrático\", le recordó el presidente Sergio Mattarella), empezó a hacerse visible en diciembre del año pasado. La primera ministra había entonces invitado al dueño de Tesla a Atreju, el congreso cultural de su partido, Hermanos de Italia, y el magnate acudió para hablar de inteligencia artificial y de Starlink, su sistema de satélites. Sin embargo, nada más llegar al convenio, Musk aludió de inmediato también a algunas de las teorías que más obsesionan a la italiana. Entre ellas: su crítica a la idea de que la inmigración puede contribuir a frenar el descenso poblacional que se cierne sobre Europa.\\n\"La demografía es importante\", afirmó Musk. \"Mi consejo para todos los líderes es: asegúrense de tener hijos para las nuevas generaciones\" o el riesgo es que \"la cultura de Italia, Francia y Japón desaparezcan\", añadió. \"En Italia tenéis que tener hijos\", ha vuelto a repetir el multimillonario en una entrevista de esta semana. \"No creo que la inmigración pueda resolver los problemas del mundo solo porque alguien tenga hijos\", ha insistido, sin dejar de criticar también al movimiento ecologista.\\nLa relación entre los dos, en cualquier caso, ha ido creciendo a medida que crecían los negocios de Musk en Italia. En septiembre pasado, por ejemplo, le entregó a la italiana el Premio a la Ciudadanía Global, un reconocimiento otorgado por el Atlantic Council. Y eso lo hizo después de que su empresa Starlink firmara en junio un acuerdo con Telespazio, la joint venture de las compañías del sector de la defensa Leonardo (Italia) y Thales (Francia), y que en abril lograra otro pacto para llevar Internet a zonas remotas en Italia; siendo este, más que el militar, el proyecto que está actualmente en la fase más avanzada.\\nLo que se desconoce es el motivo exacto de la repentina acrimonia de Musk contra la justicia italiana, aunque la explicación tal vez pueda hallarse en sus propios líos judiciales en Italia. Es lo que dejan entrever los cada vez más agresivos mensajes de Musk después de que una investigación por corrupción de la fiscalía de Roma salpicara en octubre precisamente a su colaborador italiano, Stroppa (por la sospecha de que habría obtenido ilegalmente información confidencial de un oficial de la Marina italiana para favorecer a Musk). Algo que podría obstaculizar —o, al menos, frenar— los planes del multimillonario en Italia, más aún que la investigación sigue en curso.\\xa0\\nMeloni, por su parte, tampoco es nueva en la cercanía con personajes de la galaxia Trump. Ya durante la anterior presidencia de Trump, mantenía una relación con Steve Bannon, el exconsejero jefe del estadounidense, y también lo invitó a Atreju en 2018. Luego, en 2020, la italiana recibió directamente una invitación al Desayuno Nacional de Oración en Washington, donde Trump daba un discurso. Y, después de eso, elogió su \"defensa de la identidad, las fronteras, las empresas, los productos y las familias estadounidenses\", diciendo que quería \"llevar la misma receta a Italia\".\\nPero otra incógnita es también qué pasará cuando el nuevo presidente de EEUU empiece, como prevén diversos observadores en Italia, a intentar sembrar la división entre los países europeos. \"La vida de Meloni en Bruselas se podría complicar mucho más\", explicaba recientemente Stefano Stefanini, exembajador de Italia ante la OTAN. Otro punto de ruptura también podría venir de que no está nada claro que Italia quiera cumplir con su compromiso de gastar el 2% del PIB en defensa, añadía Nathalie Tocci, la directora del Instituto IAI de Roma. \"Trump tiene esa obsesión y podría preguntarle: ¿Tú cuánto estás gastando?\".\\nNoticia guardada en tu perfil\\nVer noticias guardadas\\nEl Periódico de Catalunya, S.L.U\\nOtras webs de Prensa Ibérica Media:'}]"
      ]
     },
     "execution_count": 8,
     "metadata": {},
     "output_type": "execute_result"
    }
   ],
   "source": [
    "json_pages_parsed"
   ]
  },
  {
   "cell_type": "code",
   "execution_count": null,
   "metadata": {},
   "outputs": [
    {
     "data": {
      "text/plain": [
       "[{'url': 'https://www.sabah.com.tr/yazarlar/bercan-tutar/2024/11/14/trump-paradoksu',\n",
       "  'title': 'Trump paradoksu',\n",
       "  'content': '5 Kasım\\'daki seçimlerden zaferle çıkan Donald Trump\\'ın A takımını Çin ve İran düşmanı şahinler ile siyonist fanatiklerle doldurması Ukrayna\\'da savaşı soğutma çalışmalarına hız vereceğini fakat Ortadoğu ve Asya-Pasifik cephesini ise daha da kızıştıracağını gösteriyor.\\r\\nTrump \"En ölümcül rakibimiz Çin ve İran\\'dır\" diyen eski ulusal istihbarat direktörü John Ratcliffe\\'i CIA\\'nın başına getirirken, \"Pekin bizim için varoluşsal bir tehdittir\" diyen FOX News sunucusu eski komando Pete Hegseth\\'i de savunma bakanlığına aday gösterdi.\\n\"Ukrayna\\'dan ders alıp Tayvan\\'ı silahlandırmalıyız\" diyen Florida vekili Michael Waltz ise ulusal güvenlik danışmanı olarak aday gösterildi. Trump\\'ın BM elçisi adayı Elise Stefanik ise BM Genel Sekreteri Antonio Guterres\\'e savaş açan İsrail ile aynı çizgide biri. En ilginci de Çin\\'in kara listesindeki Marco Rubio\\'nun dışişleri bakanlığına atanması.\\r\\nİsrail yanlısı bu beş isim de Pekin\\'e ve İran\\'a karşı sert bir çizgiyi savunuyor.\\r\\nÇin şahinleri arasında eski Almanya elçisi Richard Grenell, Tennessee Senatörü Bill Hagerty ve Çin mallarına 380 milyar dolarlık gümrük vergisini devreye sokan ABD\\'nin eski \\'ticaret çarı\\' Robert Lighthizer de yer alıyor.\\r\\n\\r\\n***\\r\\nBunların dışında Trump, Gazze ve Batı Şeria\\'nın ilhakını savunan Evanjelik papaz Mike Huckabee\\'yi İsrail elçisi olarak atadı. Trump\\'ın Ortadoğu özel temsilcisi de iki devletli çözümü reddeden ve Gazze\\'de barış ve ateşkese karşı çıkan gayrimenkul yatırımcısı Yahudi kökenli Steven Witkoff olacak.\\r\\nTrump\\'ın kabinesinde sadece makul iki isim var. Biri Tesla ve SpaceX CEO\\'su Elon Musk. Diğeri de biyoteknoloji girişimcisi Vivek Ramaswamy. Bu iki kişi \\'Hükümet Verimliliği Bakanlığı\\'na başkanlık edecek.\\r\\nTablo gayet açık. ABD doğrudan Çin ile savaşa girişirken vekili İsrail\\'i ise İran\\'ın üzerine sürüyor.\\r\\nBöylece Ortadoğu ile Asya- Pasifik\\'teki yıpranan hegemonyasını yeniden tesis etmeye çalışacak.\\r\\nNe var ki Trump\\'ın ikinci yönetiminde karşılaşacağı küresel ve bölgesel dinamikler 2020\\'lerin başında bıraktığı dinamiklerden hayli farklı.\\r\\nABD ve İsrail\\'in askeri güce aşırı bağımlılığı onları uluslararası sistemde daha da yalnızlaştırıyor. Üstelik Gazze ve Lübnan\\'daki vahşi soykırımlar Arap ve Müslümanların her iki güce olan öfkesini daha körükledi.\\r\\nEn önemlisi de Türkiye ve İran başta olmak üzere diğer Arap liderlerinin de ABD\\'nin \\'Büyük İsrail Planı\\'na şiddetle karşı çıkmasıdır.\\r\\n\\r\\n***\\nSayın Erdoğan\\'ın İsrail\\'in Türkiye\\'ye saldırabileceği uyarısında bulunarak bölge ülkeleriyle geliştirdiği stratejik ittifaklar, siyonist rejimin uykularını kaçırıyor.\\r\\nErdoğan, Trump\\'ın seçim zaferinin ardından Riyad\\'a giderken Suudi Arabistan Genelkurmay Başkanı Fayyad el-Ruveyli de askeri işbirliğini görüşmek üzere Tahran\\'da mevkidaşı Muhammed Bagheri ile bir araya geldi.\\r\\nDolayısıyla İran, Türkiye ve Arap ülkeleri arasındaki stratejik rekabet İsrail tehdidi nedeniyle işbirliğine dönüşüyor. Mısır\\'dan sonra Ankara, Suriye ile de normalleşme çabalarına hız verdi. Türkiye ve bölge ülkeleri dışında Rusya ve Çin de ABD\\'nin \\'Büyük İsrail Planı\\'na karşı. Çünkü bu plan iki küresel gücün bölgedeki çıkarlarına ölümcül darbeler indirecektir.\\r\\nHaliyle Trump\\'ın Çin\\'i kuşatma ve İsrail\\'i Ortadoğu\\'nun tek hegemonu yapma stratejileri en çok da Türkiye ve Rusya\\'nın vetosuna takılacaktır. Diğer ülkeleri etkisiz hale getirse de mevcut küresel jeopolitik konjonktürde ABD\\'nin Türkiye ve Rusya\\'yı \\'by-pass\\' etmesi imkânsız görünüyor. Bu paradoksu aşması için Trump\\'ın her iki ülkeyle de yeni birer sayfa açması gerekiyor. İki aktörle de uzlaşmaya mecbur. Başka çaresi yok.\\n***\\n***'},\n",
       " {'url': 'https://www.sabah.com.tr/dunya/trumptan-cin-ve-iran-karsiti-a-takimi-7156356',\n",
       "  'title': 'Trump’tan Çin ve İran karşıtı A Takımı',\n",
       "  'content': '\\n\\n \\n\\n\\n\\n\\n\\n\\n'},\n",
       " {'url': 'https://www.sabah.com.tr/gundem/2024/11/14/milli-savunma-bakani-yasar-guler-suriyeden-cekilmeyiz',\n",
       "  'title': 'Milli Savunma Bakanı Yaşar Güler: Suriye’den çekilmeyiz',\n",
       "  'content': '\\n\\n \\n\\n\\n\\n\\n\\n\\n'},\n",
       " {'url': 'https://www.fool.com.au/2024/11/14/what-the-latest-us-inflation-print-means-for-asx-200-investors/',\n",
       "  'title': 'What the latest US inflation print means for ASX 200 investors',\n",
       "  'content': '\\xa0\\n\\xa0\\nThe Motley Fool offers a range of services designed to help you achieve your financial goals. Click here to learn more about our membership options.\\nAccess all of your premium services in our\\xa0Member Centre.\\nTO MAKE THE WORLD SMARTER, HAPPIER, AND RICHER.\\nFounded in 1993 by brothers Tom and David Gardner, The Motley Fool helps millions of people attain financial freedom through our website, podcasts, books, newspaper column, radio show, and premium investing services.\\nThe ASX 200 is likely to benefit if the US Fed cuts interest rates again in December. But will it?\\nImage source: Getty Images\\nYou’re reading a free article with opinions that may differ from The Motley Fool’s Premium Investing Services. Become a Motley Fool member today to get instant access to our top analyst recommendations, in-depth research, investing resources, and more. Learn More\\nThe S&P/ASX 200 Index\\xa0(ASX: XJO) has given back some of its earlier gains but remains up 0.3% in afternoon trade on Thursday.\\nWhile there\\'s plenty happening on a company specific level for many stocks today, investors will also be mulling over the latest batch of inflation data out of the United States.\\nThat\\'s because, like it or not, what happens with inflation and interest rates in the world\\'s top economy will inevitably have a spillover impact on the Aussie economy and the ASX 200.\\nWith that said, here are the latest consumer price index (CPI) figures reported by the US Bureau of Labor Statistics yesterday, overnight Aussie time.\\nLast night\\'s CPI data indicates that the US Federal Reserve has made headway in its efforts to tamp inflation back down to its 2% target, while the final stretch may take some time yet.\\nHeadline inflation in October was up 0.2%, while monthly core inflation (which excludes volatile food and energy costs) increased by 0.3%. Both figures were broadly in line with consensus estimates, likely helping moderate any big swings higher or lower on the ASX 200 today.\\nOn an annual level, headline inflation edged higher to 2.6% while core inflation – the preferred measure for both the Fed and the RBA here in Australia – remained at 3.3%.\\nDespite inflation remaining above target, markets are placing 80% odds that the US Federal Reserve will deliver a third consecutive interest rate cut (this one at 0.25%) at the central bank\\'s next meeting on 18 December.\\nMinneapolis Fed President Neel Kashkari, who said \"inflation is headed to the right direction,\" likely buoyed rate cut sentiment.\\nCommenting on how the latest US inflation data may impact the Fed\\'s upcoming interest rate decisions and by connection, impact the ASX 200,\\xa0Lindsay Rosner, head of multi-sector fixed income investing at Goldman Sachs Asset Management, said (quoted by Bloomberg):\\nBang in-line core inflation leaves the Fed on track to cut rates in December. After a run of unseasonably hot autumn data, today\\'s number cools fears of an imminent slowdown in the pace of rate cuts.\\nBarclays economist\\xa0Pooja Sriram\\xa0sounded a slightly more cautious note.\\n\"We maintain our call for a 25-basis-point cut at the December FOMC [Federal Open Market Committee] meeting but believe that it could still be a close call, given there will be one more payroll report and CPI report,\" Sriram said.\\nBut should investors be worried about the pending return of Donald Trump to the White House potentially rekindling inflation?\\nAccording to Bloomberg strategist Edward Harrison, not today.\\n\"Any inflation from the future Trump administration\\'s policies won\\'t be felt until well into the future,\" he said.\\nThe ASX 200 has gained more than 17% over the past year as inflation in the US and Australia have both come off the boil, though Aussie investors are still awaiting the first rate cut from the RBA.\\nMotley Fool contributor Bernd Struben has no position in any of the stocks mentioned. The Motley Fool Australia\\'s parent company Motley Fool Holdings Inc. has positions in and has recommended Goldman Sachs Group. The Motley Fool Australia has no position in any of the stocks mentioned. The Motley Fool has a disclosure policy. This article contains general investment advice only (under AFSL 400691). Authorised by Scott Phillips.\\n November 14, 2024 | Bronwyn Allen \\nAMP Chief Economist, Dr Shane Oliver, offers advice on how to handle the Trump factor.\\n Read more » \\n November 14, 2024 | James Mickleboro \\nThese shares are having a tough time on Thursday. But why?\\n Read more » \\n November 14, 2024 | James Mickleboro \\nThese shares are having a strong session on Thursday. But why? Let\\'s find out.\\n Read more » \\n November 14, 2024 | Tristan Harrison \\nThis international business is growing core earnings at a strong rate.\\n Read more » \\n November 14, 2024 | Mitchell Lawler \\nAustralia\\'s biggest bank is running hot. Does it make any sense?\\n Read more » \\n November 14, 2024 | Bronwyn Allen \\nThese ASX All Ords stocks have caught the eye of brokers this week.\\n Read more » \\n November 14, 2024 | Tristan Harrison \\nThis ASX stock is appealing to me for a few different factors.\\n Read more » \\n November 14, 2024 | Bernd Struben \\nInvestors are sending these ASX healthcare stocks soaring today. But why?\\n Read more » \\nView All\\nGet the latest from The Motley Fool Australia on Google News. Go to Google News, then click \"Follow\" button to add us.\\nSign Up for Take Stock Investment news, stock ideas, and more, straight to your inbox.\\nGet Started Investing You can do it. Learn about investing with our Investing Education hub.\\nWin at Retirement Our latest articles and strategies for the post-work life you want.\\nListen to Our Podcast Hear our experts take on shares, the market & how to invest.\\nJoin Our Premium Community Join our flagship membership service, Share Advisor.\\nThe Motley Fool stands behind our products and our membership-fee-back guarantee. If for any reason you are not 100% satisfied with your premium subscription, simply notify us within the first 30 days and you won\\'t pay a cent.\\nBy taking up this offer, you will also be enrolled in our auto-renewal program, which is our way of making your ongoing subscription easier by ensuring uninterrupted service. Don\\'t worry, though – you\\'re not locked in, and can cancel your auto-renewal at any time before each \\'anniversary\\' date without question or penalty.\\nTo make the world Smarter, Happier, And Richer\\nFounded in 1993 by brothers Tom and David Gardner, The Motley Fool helps millions of people attain financial freedom through our website, podcasts, books, newspaper column, radio show and premium investing services. The Motley Fool launched its Australian presence in 2011, and since then has grown to reach over 1 million Australians.\\nRead more about us >\\n\\nBy clicking this button, you agree to our Terms of Service and Privacy Policy. We will use your email address only to keep you informed about updates to our website and about other products and services we think might interest you. You can unsubscribe at anytime. Please refer to our Financial Services Guide (FSG) for more information.\\nThis Service provides only general, and not personalised financial advice, and has not taken your personal circumstances into account. The Motley Fool Australia operates under AFSL 400691. For more information please see our Financial Services Guide. Please remember that investments can go up and down. Past performance is not necessarily indicative of future returns. The Motley Fool Australia does not guarantee the performance of, or returns on any investment.\\nWe respectfully acknowledge the Traditional Custodians of the land where we live and work and pay our respects to all Elders, past and present, of all Aboriginal and Torres Strait Islander nations.\\n© 2010 - 2023 The Motley Fool Australia Pty Ltd. All rights reserved.\\nACN: 146 988 052\\nAustralian Financial Services Licence (AFSL): 400691\\nThe Motley Fool Australia, PO Box 104, Isle of Capri, Qld 4217\\nContact Details: Phone: (03) 8592 4841 Email: [email\\xa0protected] Our friendly customer service team will happily get back to you as soon as they can.\\nNotifications\\nScott Phillips just released his 5 best stocks to buy right now and you could grab the names of these stocks instantly!'},\n",
       " {'url': 'https://www.elperiodico.com/es/internacional/20241114/elon-musk-meloni-trump-italia-111652320',\n",
       "  'title': 'Revuelo en la política italiana por la amistad entre Meloni y Elon Musk',\n",
       "  'content': 'el periódico\\nElecciones en EEUU\\nFILE PHOTO: Illustration shows Elon Musk\\'s photo and Twitter logo  / DADO RUVIC\\nIrene Savio\\nPeriodista\\nAl multimillonario Elon Musk le interesa Italia. Y a la primera ministra Giorgia Meloni le interesa Musk. La afirmación podría tacharse de distópica, si la realidad no fuera tan explícita. \"Estos jueces tienen que irse\", afirmó el magnate el martes, al respaldar a la ultraderechista en su batalla contra los tribunales italianos, que siguen rechazando el plan de la mandataria de deportar a migrantes a Albania. \"¿Viven los italianos en una democracia o una autocracia no electa toma las decisiones?\", insistió el miércoles, suscitando una ola de críticas en Italia. El \"amigo\" Musk es sin duda \"un interlocutor\" que ha hecho \"cosas extraordinarias\", había dicho Meloni en la cumbre informal europea del pasado viernes en Budapest.\\nSon las últimas de muchas veces en las que en estos meses él se ha referido a ella, y ella a él, hoy el empresario más cercano al nuevo presidente estadounidense, Donald Trump. Una figura, la de Musk, que poco a poco la extrema derecha italiana ha ido encumbrando no solo como uno de sus grandes referentes internacionales para la construcción de un nuevo relato cultural predominante, sino también como un estratégico socio de negocios que, además, ahora podría reforzar a Meloni en el contexto de las relaciones entre la UE y EEUU. \"Meloni y Musk tienen una relación privilegiada\", concluía días atrás uno de los colaboradores del surafricano, Andrea Stroppa, en declaraciones retomadas por el diario La Stampa.\\xa0\\nLa relación entre Meloni y Musk, que en esta semana desató reacciones de todo tipo (\"Italia es un país democrático\", le recordó el presidente Sergio Mattarella), empezó a hacerse visible en diciembre del año pasado. La primera ministra había entonces invitado al dueño de Tesla a Atreju, el congreso cultural de su partido, Hermanos de Italia, y el magnate acudió para hablar de inteligencia artificial y de Starlink, su sistema de satélites. Sin embargo, nada más llegar al convenio, Musk aludió de inmediato también a algunas de las teorías que más obsesionan a la italiana. Entre ellas: su crítica a la idea de que la inmigración puede contribuir a frenar el descenso poblacional que se cierne sobre Europa.\\n\"La demografía es importante\", afirmó Musk. \"Mi consejo para todos los líderes es: asegúrense de tener hijos para las nuevas generaciones\" o el riesgo es que \"la cultura de Italia, Francia y Japón desaparezcan\", añadió. \"En Italia tenéis que tener hijos\", ha vuelto a repetir el multimillonario en una entrevista de esta semana. \"No creo que la inmigración pueda resolver los problemas del mundo solo porque alguien tenga hijos\", ha insistido, sin dejar de criticar también al movimiento ecologista.\\nLa relación entre los dos, en cualquier caso, ha ido creciendo a medida que crecían los negocios de Musk en Italia. En septiembre pasado, por ejemplo, le entregó a la italiana el Premio a la Ciudadanía Global, un reconocimiento otorgado por el Atlantic Council. Y eso lo hizo después de que su empresa Starlink firmara en junio un acuerdo con Telespazio, la joint venture de las compañías del sector de la defensa Leonardo (Italia) y Thales (Francia), y que en abril lograra otro pacto para llevar Internet a zonas remotas en Italia; siendo este, más que el militar, el proyecto que está actualmente en la fase más avanzada.\\nLo que se desconoce es el motivo exacto de la repentina acrimonia de Musk contra la justicia italiana, aunque la explicación tal vez pueda hallarse en sus propios líos judiciales en Italia. Es lo que dejan entrever los cada vez más agresivos mensajes de Musk después de que una investigación por corrupción de la fiscalía de Roma salpicara en octubre precisamente a su colaborador italiano, Stroppa (por la sospecha de que habría obtenido ilegalmente información confidencial de un oficial de la Marina italiana para favorecer a Musk). Algo que podría obstaculizar —o, al menos, frenar— los planes del multimillonario en Italia, más aún que la investigación sigue en curso.\\xa0\\nMeloni, por su parte, tampoco es nueva en la cercanía con personajes de la galaxia Trump. Ya durante la anterior presidencia de Trump, mantenía una relación con Steve Bannon, el exconsejero jefe del estadounidense, y también lo invitó a Atreju en 2018. Luego, en 2020, la italiana recibió directamente una invitación al Desayuno Nacional de Oración en Washington, donde Trump daba un discurso. Y, después de eso, elogió su \"defensa de la identidad, las fronteras, las empresas, los productos y las familias estadounidenses\", diciendo que quería \"llevar la misma receta a Italia\".\\nPero otra incógnita es también qué pasará cuando el nuevo presidente de EEUU empiece, como prevén diversos observadores en Italia, a intentar sembrar la división entre los países europeos. \"La vida de Meloni en Bruselas se podría complicar mucho más\", explicaba recientemente Stefano Stefanini, exembajador de Italia ante la OTAN. Otro punto de ruptura también podría venir de que no está nada claro que Italia quiera cumplir con su compromiso de gastar el 2% del PIB en defensa, añadía Nathalie Tocci, la directora del Instituto IAI de Roma. \"Trump tiene esa obsesión y podría preguntarle: ¿Tú cuánto estás gastando?\".\\nNoticia guardada en tu perfil\\nVer noticias guardadas\\nEl Periódico de Catalunya, S.L.U\\nOtras webs de Prensa Ibérica Media:'}]"
      ]
     },
     "execution_count": 9,
     "metadata": {},
     "output_type": "execute_result"
    }
   ],
   "source": [
    "page_news_obj.articles"
   ]
  },
  {
   "cell_type": "code",
   "execution_count": null,
   "metadata": {},
   "outputs": [
    {
     "name": "stderr",
     "output_type": "stream",
     "text": [
      "Input ids are automatically padded from 1772 to 2048 to be a multiple of `config.attention_window`: 1024\n"
     ]
    },
    {
     "name": "stdout",
     "output_type": "stream",
     "text": [
      "https://www.sabah.com.tr/yazarlar/bercan-tutar/2024/11/14/trump-paradoksu\n"
     ]
    },
    {
     "name": "stderr",
     "output_type": "stream",
     "text": [
      "Input ids are automatically padded from 33 to 1024 to be a multiple of `config.attention_window`: 1024\n"
     ]
    },
    {
     "name": "stdout",
     "output_type": "stream",
     "text": [
      "summary:   a takımını  5 Kasım'daki seçimlerden zaferle çıkan Donald Trump'ın A takımını Çin ve İran düşmanı şahinler ile siyonist fanatiklerle doldurması Ukrayna'da savaşı soğutma çalışmalarına hız vereceğini fakat Ortadoğu ve Asya-Pasifik cephesini ise daha da kızıştıracağını gösteriyor.Trump \"En ölümcül rakibimiz Çin ve İran'dır\" diyen eski ulusal istihbarat direktörü John Ratcliffe'i CIA'nın başına getirirken, \"Pekin bizim için varoluşsal bir tehdittir\" diyen eski ulusal istihbarat direktörü John Ratcliffe'i\n",
      "https://www.sabah.com.tr/dunya/trumptan-cin-ve-iran-karsiti-a-takimi-7156356\n"
     ]
    },
    {
     "name": "stderr",
     "output_type": "stream",
     "text": [
      "Input ids are automatically padded from 39 to 1024 to be a multiple of `config.attention_window`: 1024\n"
     ]
    },
    {
     "name": "stdout",
     "output_type": "stream",
     "text": [
      "summary:  Trump’tan Çin ve İran karşıtı A TakımıTrump’tan Çin ve İran karşıtı A Takımı     +   +   +   +   +   +   +   +   +   +   +   +   +   +   +   +   +   +   +   +   +   +   +   +   +   +   +   +   +   +   +   +   +   +   +   +   +   +   +   +   +   +   +   +   +   +   +   +   +   +   +   +   +   +   +   +   +   +   +   +   +   +   +   +   +   +   +  \n",
      "https://www.sabah.com.tr/gundem/2024/11/14/milli-savunma-bakani-yasar-guler-suriyeden-cekilmeyiz\n"
     ]
    },
    {
     "name": "stderr",
     "output_type": "stream",
     "text": [
      "Input ids are automatically padded from 1831 to 2048 to be a multiple of `config.attention_window`: 1024\n"
     ]
    },
    {
     "name": "stdout",
     "output_type": "stream",
     "text": [
      "summary:  Milli Savunma Bakanı Yaşar Güler: Suriye’den çekilmeyiz     +   +   +   +   +   +   +   +   +   +   +   +   +   +   +   +   +   +   +   +   +   +   +   +   +   +   +   +   +   +   +   +   +   +   +   +   +   +   +   +   +   +   +   +   +   +   +   +   +   +   +   +   +   +   +   +   +   +   +   +   +   +   +   +   +   +   +   +   +   +   +   +   +\n",
      "https://www.fool.com.au/2024/11/14/what-the-latest-us-inflation-print-means-for-asx-200-investors/\n"
     ]
    },
    {
     "name": "stderr",
     "output_type": "stream",
     "text": [
      "Input ids are automatically padded from 1871 to 2048 to be a multiple of `config.attention_window`: 1024\n"
     ]
    },
    {
     "name": "stdout",
     "output_type": "stream",
     "text": [
      "summary:   the latest batch of inflation data out of the United States will inevitably have a spillover impact on the global economy and the ASX 200 today . \n",
      " that said , markets are placing 80% odds that the US Federal Reserve will deliver a third consecutive interest rate cut (this one at 0.25%) at the central bank's next meeting on 18 December , likely helping moderate any big swings higher or lower on the ASX 200 today .    \n",
      " # 1_#1 _ # 1_#1 _ =    # 1 1.25 in .125 in .25 in    # 1#2#3#4#1 * # 2 * , # 3 ( # 4 )    # 1#2#3#4#1 * # 2 * , # 3 ( # 4 )    # 1#2#3#4#1 * # 2 * , # 3 ( # 4 )    # 1#2#3#4#1 * # 2 * , # 3 ( # 4 )    # 1#2#3#4#1 * # 2 * , # 3 ( # 4 )    # 1#2#\n",
      "https://www.elperiodico.com/es/internacional/20241114/elon-musk-meloni-trump-italia-111652320\n",
      "summary:   el magnate Elon Musk le interesa Italia. y a la primera ministra giorgia Meloni le interesa Musk. \"Meloni y Musk tienen una relación privilegiada\", concluía días atrás uno de los colaboradores del surafricano , Andrea Stroppa , en declaraciones retomadas by el diario La Stampa. \"Estos jueces tienen que irse\", afirmó el magnate el martes , al respaldar a la ultraderechista en su batalla contra los tribunales italianos , que siguen rechazando el plan de la mandataria de deportar a migrantes a Albania. \"¿Viven los italianos en una democracia o una autocracia no electa toma las decisiones?\", insistió el miércoles , suscitando una ola de críticas en Italia. \"Meloni y Musk tienen una relación privilegiada\", concluía días atrás uno de los\n"
     ]
    }
   ],
   "source": [
    "\n",
    "for json_page in json_pages_parsed:\n",
    "    # print(json_page)\n",
    "    print(json_page[\"url\"])\n",
    "    # print(json_page[\"content\"])\n",
    "    summary = page_news_obj.fetch_article_summary(json_page[\"url\"])\n",
    "    print(\"summary: \",summary)"
   ]
  },
  {
   "cell_type": "code",
   "execution_count": null,
   "metadata": {},
   "outputs": [
    {
     "data": {
      "text/plain": [
       "[{'url': 'https://www.sabah.com.tr/yazarlar/bercan-tutar/2024/11/14/trump-paradoksu',\n",
       "  'title': 'Trump paradoksu',\n",
       "  'content': '5 Kasım\\'daki seçimlerden zaferle çıkan Donald Trump\\'ın A takımını Çin ve İran düşmanı şahinler ile siyonist fanatiklerle doldurması Ukrayna\\'da savaşı soğutma çalışmalarına hız vereceğini fakat Ortadoğu ve Asya-Pasifik cephesini ise daha da kızıştıracağını gösteriyor.\\r\\nTrump \"En ölümcül rakibimiz Çin ve İran\\'dır\" diyen eski ulusal istihbarat direktörü John Ratcliffe\\'i CIA\\'nın başına getirirken, \"Pekin bizim için varoluşsal bir tehdittir\" diyen FOX News sunucusu eski komando Pete Hegseth\\'i de savunma bakanlığına aday gösterdi.\\n\"Ukrayna\\'dan ders alıp Tayvan\\'ı silahlandırmalıyız\" diyen Florida vekili Michael Waltz ise ulusal güvenlik danışmanı olarak aday gösterildi. Trump\\'ın BM elçisi adayı Elise Stefanik ise BM Genel Sekreteri Antonio Guterres\\'e savaş açan İsrail ile aynı çizgide biri. En ilginci de Çin\\'in kara listesindeki Marco Rubio\\'nun dışişleri bakanlığına atanması.\\r\\nİsrail yanlısı bu beş isim de Pekin\\'e ve İran\\'a karşı sert bir çizgiyi savunuyor.\\r\\nÇin şahinleri arasında eski Almanya elçisi Richard Grenell, Tennessee Senatörü Bill Hagerty ve Çin mallarına 380 milyar dolarlık gümrük vergisini devreye sokan ABD\\'nin eski \\'ticaret çarı\\' Robert Lighthizer de yer alıyor.\\r\\n\\r\\n***\\r\\nBunların dışında Trump, Gazze ve Batı Şeria\\'nın ilhakını savunan Evanjelik papaz Mike Huckabee\\'yi İsrail elçisi olarak atadı. Trump\\'ın Ortadoğu özel temsilcisi de iki devletli çözümü reddeden ve Gazze\\'de barış ve ateşkese karşı çıkan gayrimenkul yatırımcısı Yahudi kökenli Steven Witkoff olacak.\\r\\nTrump\\'ın kabinesinde sadece makul iki isim var. Biri Tesla ve SpaceX CEO\\'su Elon Musk. Diğeri de biyoteknoloji girişimcisi Vivek Ramaswamy. Bu iki kişi \\'Hükümet Verimliliği Bakanlığı\\'na başkanlık edecek.\\r\\nTablo gayet açık. ABD doğrudan Çin ile savaşa girişirken vekili İsrail\\'i ise İran\\'ın üzerine sürüyor.\\r\\nBöylece Ortadoğu ile Asya- Pasifik\\'teki yıpranan hegemonyasını yeniden tesis etmeye çalışacak.\\r\\nNe var ki Trump\\'ın ikinci yönetiminde karşılaşacağı küresel ve bölgesel dinamikler 2020\\'lerin başında bıraktığı dinamiklerden hayli farklı.\\r\\nABD ve İsrail\\'in askeri güce aşırı bağımlılığı onları uluslararası sistemde daha da yalnızlaştırıyor. Üstelik Gazze ve Lübnan\\'daki vahşi soykırımlar Arap ve Müslümanların her iki güce olan öfkesini daha körükledi.\\r\\nEn önemlisi de Türkiye ve İran başta olmak üzere diğer Arap liderlerinin de ABD\\'nin \\'Büyük İsrail Planı\\'na şiddetle karşı çıkmasıdır.\\r\\n\\r\\n***\\nSayın Erdoğan\\'ın İsrail\\'in Türkiye\\'ye saldırabileceği uyarısında bulunarak bölge ülkeleriyle geliştirdiği stratejik ittifaklar, siyonist rejimin uykularını kaçırıyor.\\r\\nErdoğan, Trump\\'ın seçim zaferinin ardından Riyad\\'a giderken Suudi Arabistan Genelkurmay Başkanı Fayyad el-Ruveyli de askeri işbirliğini görüşmek üzere Tahran\\'da mevkidaşı Muhammed Bagheri ile bir araya geldi.\\r\\nDolayısıyla İran, Türkiye ve Arap ülkeleri arasındaki stratejik rekabet İsrail tehdidi nedeniyle işbirliğine dönüşüyor. Mısır\\'dan sonra Ankara, Suriye ile de normalleşme çabalarına hız verdi. Türkiye ve bölge ülkeleri dışında Rusya ve Çin de ABD\\'nin \\'Büyük İsrail Planı\\'na karşı. Çünkü bu plan iki küresel gücün bölgedeki çıkarlarına ölümcül darbeler indirecektir.\\r\\nHaliyle Trump\\'ın Çin\\'i kuşatma ve İsrail\\'i Ortadoğu\\'nun tek hegemonu yapma stratejileri en çok da Türkiye ve Rusya\\'nın vetosuna takılacaktır. Diğer ülkeleri etkisiz hale getirse de mevcut küresel jeopolitik konjonktürde ABD\\'nin Türkiye ve Rusya\\'yı \\'by-pass\\' etmesi imkânsız görünüyor. Bu paradoksu aşması için Trump\\'ın her iki ülkeyle de yeni birer sayfa açması gerekiyor. İki aktörle de uzlaşmaya mecbur. Başka çaresi yok.\\n***\\n***',\n",
       "  'summary': ' a takımını  5 Kasım\\'daki seçimlerden zaferle çıkan Donald Trump\\'ın A takımını Çin ve İran düşmanı şahinler ile siyonist fanatiklerle doldurması Ukrayna\\'da savaşı soğutma çalışmalarına hız vereceğini fakat Ortadoğu ve Asya-Pasifik cephesini ise daha da kızıştıracağını gösteriyor.Trump \"En ölümcül rakibimiz Çin ve İran\\'dır\" diyen eski ulusal istihbarat direktörü John Ratcliffe\\'i CIA\\'nın başına getirirken, \"Pekin bizim için varoluşsal bir tehdittir\" diyen eski ulusal istihbarat direktörü John Ratcliffe\\'i'},\n",
       " {'url': 'https://www.sabah.com.tr/dunya/trumptan-cin-ve-iran-karsiti-a-takimi-7156356',\n",
       "  'title': 'Trump’tan Çin ve İran karşıtı A Takımı',\n",
       "  'content': '\\n\\n \\n\\n\\n\\n\\n\\n\\n',\n",
       "  'summary': 'Trump’tan Çin ve İran karşıtı A TakımıTrump’tan Çin ve İran karşıtı A Takımı     +   +   +   +   +   +   +   +   +   +   +   +   +   +   +   +   +   +   +   +   +   +   +   +   +   +   +   +   +   +   +   +   +   +   +   +   +   +   +   +   +   +   +   +   +   +   +   +   +   +   +   +   +   +   +   +   +   +   +   +   +   +   +   +   +   +   +  '},\n",
       " {'url': 'https://www.sabah.com.tr/gundem/2024/11/14/milli-savunma-bakani-yasar-guler-suriyeden-cekilmeyiz',\n",
       "  'title': 'Milli Savunma Bakanı Yaşar Güler: Suriye’den çekilmeyiz',\n",
       "  'content': '\\n\\n \\n\\n\\n\\n\\n\\n\\n',\n",
       "  'summary': 'Milli Savunma Bakanı Yaşar Güler: Suriye’den çekilmeyiz     +   +   +   +   +   +   +   +   +   +   +   +   +   +   +   +   +   +   +   +   +   +   +   +   +   +   +   +   +   +   +   +   +   +   +   +   +   +   +   +   +   +   +   +   +   +   +   +   +   +   +   +   +   +   +   +   +   +   +   +   +   +   +   +   +   +   +   +   +   +   +   +   +'},\n",
       " {'url': 'https://www.fool.com.au/2024/11/14/what-the-latest-us-inflation-print-means-for-asx-200-investors/',\n",
       "  'title': 'What the latest US inflation print means for ASX 200 investors',\n",
       "  'content': '\\xa0\\n\\xa0\\nThe Motley Fool offers a range of services designed to help you achieve your financial goals. Click here to learn more about our membership options.\\nAccess all of your premium services in our\\xa0Member Centre.\\nTO MAKE THE WORLD SMARTER, HAPPIER, AND RICHER.\\nFounded in 1993 by brothers Tom and David Gardner, The Motley Fool helps millions of people attain financial freedom through our website, podcasts, books, newspaper column, radio show, and premium investing services.\\nThe ASX 200 is likely to benefit if the US Fed cuts interest rates again in December. But will it?\\nImage source: Getty Images\\nYou’re reading a free article with opinions that may differ from The Motley Fool’s Premium Investing Services. Become a Motley Fool member today to get instant access to our top analyst recommendations, in-depth research, investing resources, and more. Learn More\\nThe S&P/ASX 200 Index\\xa0(ASX: XJO) has given back some of its earlier gains but remains up 0.3% in afternoon trade on Thursday.\\nWhile there\\'s plenty happening on a company specific level for many stocks today, investors will also be mulling over the latest batch of inflation data out of the United States.\\nThat\\'s because, like it or not, what happens with inflation and interest rates in the world\\'s top economy will inevitably have a spillover impact on the Aussie economy and the ASX 200.\\nWith that said, here are the latest consumer price index (CPI) figures reported by the US Bureau of Labor Statistics yesterday, overnight Aussie time.\\nLast night\\'s CPI data indicates that the US Federal Reserve has made headway in its efforts to tamp inflation back down to its 2% target, while the final stretch may take some time yet.\\nHeadline inflation in October was up 0.2%, while monthly core inflation (which excludes volatile food and energy costs) increased by 0.3%. Both figures were broadly in line with consensus estimates, likely helping moderate any big swings higher or lower on the ASX 200 today.\\nOn an annual level, headline inflation edged higher to 2.6% while core inflation – the preferred measure for both the Fed and the RBA here in Australia – remained at 3.3%.\\nDespite inflation remaining above target, markets are placing 80% odds that the US Federal Reserve will deliver a third consecutive interest rate cut (this one at 0.25%) at the central bank\\'s next meeting on 18 December.\\nMinneapolis Fed President Neel Kashkari, who said \"inflation is headed to the right direction,\" likely buoyed rate cut sentiment.\\nCommenting on how the latest US inflation data may impact the Fed\\'s upcoming interest rate decisions and by connection, impact the ASX 200,\\xa0Lindsay Rosner, head of multi-sector fixed income investing at Goldman Sachs Asset Management, said (quoted by Bloomberg):\\nBang in-line core inflation leaves the Fed on track to cut rates in December. After a run of unseasonably hot autumn data, today\\'s number cools fears of an imminent slowdown in the pace of rate cuts.\\nBarclays economist\\xa0Pooja Sriram\\xa0sounded a slightly more cautious note.\\n\"We maintain our call for a 25-basis-point cut at the December FOMC [Federal Open Market Committee] meeting but believe that it could still be a close call, given there will be one more payroll report and CPI report,\" Sriram said.\\nBut should investors be worried about the pending return of Donald Trump to the White House potentially rekindling inflation?\\nAccording to Bloomberg strategist Edward Harrison, not today.\\n\"Any inflation from the future Trump administration\\'s policies won\\'t be felt until well into the future,\" he said.\\nThe ASX 200 has gained more than 17% over the past year as inflation in the US and Australia have both come off the boil, though Aussie investors are still awaiting the first rate cut from the RBA.\\nMotley Fool contributor Bernd Struben has no position in any of the stocks mentioned. The Motley Fool Australia\\'s parent company Motley Fool Holdings Inc. has positions in and has recommended Goldman Sachs Group. The Motley Fool Australia has no position in any of the stocks mentioned. The Motley Fool has a disclosure policy. This article contains general investment advice only (under AFSL 400691). Authorised by Scott Phillips.\\n November 14, 2024 | Bronwyn Allen \\nAMP Chief Economist, Dr Shane Oliver, offers advice on how to handle the Trump factor.\\n Read more » \\n November 14, 2024 | James Mickleboro \\nThese shares are having a tough time on Thursday. But why?\\n Read more » \\n November 14, 2024 | James Mickleboro \\nThese shares are having a strong session on Thursday. But why? Let\\'s find out.\\n Read more » \\n November 14, 2024 | Tristan Harrison \\nThis international business is growing core earnings at a strong rate.\\n Read more » \\n November 14, 2024 | Mitchell Lawler \\nAustralia\\'s biggest bank is running hot. Does it make any sense?\\n Read more » \\n November 14, 2024 | Bronwyn Allen \\nThese ASX All Ords stocks have caught the eye of brokers this week.\\n Read more » \\n November 14, 2024 | Tristan Harrison \\nThis ASX stock is appealing to me for a few different factors.\\n Read more » \\n November 14, 2024 | Bernd Struben \\nInvestors are sending these ASX healthcare stocks soaring today. But why?\\n Read more » \\nView All\\nGet the latest from The Motley Fool Australia on Google News. Go to Google News, then click \"Follow\" button to add us.\\nSign Up for Take Stock Investment news, stock ideas, and more, straight to your inbox.\\nGet Started Investing You can do it. Learn about investing with our Investing Education hub.\\nWin at Retirement Our latest articles and strategies for the post-work life you want.\\nListen to Our Podcast Hear our experts take on shares, the market & how to invest.\\nJoin Our Premium Community Join our flagship membership service, Share Advisor.\\nThe Motley Fool stands behind our products and our membership-fee-back guarantee. If for any reason you are not 100% satisfied with your premium subscription, simply notify us within the first 30 days and you won\\'t pay a cent.\\nBy taking up this offer, you will also be enrolled in our auto-renewal program, which is our way of making your ongoing subscription easier by ensuring uninterrupted service. Don\\'t worry, though – you\\'re not locked in, and can cancel your auto-renewal at any time before each \\'anniversary\\' date without question or penalty.\\nTo make the world Smarter, Happier, And Richer\\nFounded in 1993 by brothers Tom and David Gardner, The Motley Fool helps millions of people attain financial freedom through our website, podcasts, books, newspaper column, radio show and premium investing services. The Motley Fool launched its Australian presence in 2011, and since then has grown to reach over 1 million Australians.\\nRead more about us >\\n\\nBy clicking this button, you agree to our Terms of Service and Privacy Policy. We will use your email address only to keep you informed about updates to our website and about other products and services we think might interest you. You can unsubscribe at anytime. Please refer to our Financial Services Guide (FSG) for more information.\\nThis Service provides only general, and not personalised financial advice, and has not taken your personal circumstances into account. The Motley Fool Australia operates under AFSL 400691. For more information please see our Financial Services Guide. Please remember that investments can go up and down. Past performance is not necessarily indicative of future returns. The Motley Fool Australia does not guarantee the performance of, or returns on any investment.\\nWe respectfully acknowledge the Traditional Custodians of the land where we live and work and pay our respects to all Elders, past and present, of all Aboriginal and Torres Strait Islander nations.\\n© 2010 - 2023 The Motley Fool Australia Pty Ltd. All rights reserved.\\nACN: 146 988 052\\nAustralian Financial Services Licence (AFSL): 400691\\nThe Motley Fool Australia, PO Box 104, Isle of Capri, Qld 4217\\nContact Details: Phone: (03) 8592 4841 Email: [email\\xa0protected] Our friendly customer service team will happily get back to you as soon as they can.\\nNotifications\\nScott Phillips just released his 5 best stocks to buy right now and you could grab the names of these stocks instantly!',\n",
       "  'summary': \" the latest batch of inflation data out of the United States will inevitably have a spillover impact on the global economy and the ASX 200 today . \\n that said , markets are placing 80% odds that the US Federal Reserve will deliver a third consecutive interest rate cut (this one at 0.25%) at the central bank's next meeting on 18 December , likely helping moderate any big swings higher or lower on the ASX 200 today .    \\n # 1_#1 _ # 1_#1 _ =    # 1 1.25 in .125 in .25 in    # 1#2#3#4#1 * # 2 * , # 3 ( # 4 )    # 1#2#3#4#1 * # 2 * , # 3 ( # 4 )    # 1#2#3#4#1 * # 2 * , # 3 ( # 4 )    # 1#2#3#4#1 * # 2 * , # 3 ( # 4 )    # 1#2#3#4#1 * # 2 * , # 3 ( # 4 )    # 1#2#\"},\n",
       " {'url': 'https://www.elperiodico.com/es/internacional/20241114/elon-musk-meloni-trump-italia-111652320',\n",
       "  'title': 'Revuelo en la política italiana por la amistad entre Meloni y Elon Musk',\n",
       "  'content': 'el periódico\\nElecciones en EEUU\\nFILE PHOTO: Illustration shows Elon Musk\\'s photo and Twitter logo  / DADO RUVIC\\nIrene Savio\\nPeriodista\\nAl multimillonario Elon Musk le interesa Italia. Y a la primera ministra Giorgia Meloni le interesa Musk. La afirmación podría tacharse de distópica, si la realidad no fuera tan explícita. \"Estos jueces tienen que irse\", afirmó el magnate el martes, al respaldar a la ultraderechista en su batalla contra los tribunales italianos, que siguen rechazando el plan de la mandataria de deportar a migrantes a Albania. \"¿Viven los italianos en una democracia o una autocracia no electa toma las decisiones?\", insistió el miércoles, suscitando una ola de críticas en Italia. El \"amigo\" Musk es sin duda \"un interlocutor\" que ha hecho \"cosas extraordinarias\", había dicho Meloni en la cumbre informal europea del pasado viernes en Budapest.\\nSon las últimas de muchas veces en las que en estos meses él se ha referido a ella, y ella a él, hoy el empresario más cercano al nuevo presidente estadounidense, Donald Trump. Una figura, la de Musk, que poco a poco la extrema derecha italiana ha ido encumbrando no solo como uno de sus grandes referentes internacionales para la construcción de un nuevo relato cultural predominante, sino también como un estratégico socio de negocios que, además, ahora podría reforzar a Meloni en el contexto de las relaciones entre la UE y EEUU. \"Meloni y Musk tienen una relación privilegiada\", concluía días atrás uno de los colaboradores del surafricano, Andrea Stroppa, en declaraciones retomadas por el diario La Stampa.\\xa0\\nLa relación entre Meloni y Musk, que en esta semana desató reacciones de todo tipo (\"Italia es un país democrático\", le recordó el presidente Sergio Mattarella), empezó a hacerse visible en diciembre del año pasado. La primera ministra había entonces invitado al dueño de Tesla a Atreju, el congreso cultural de su partido, Hermanos de Italia, y el magnate acudió para hablar de inteligencia artificial y de Starlink, su sistema de satélites. Sin embargo, nada más llegar al convenio, Musk aludió de inmediato también a algunas de las teorías que más obsesionan a la italiana. Entre ellas: su crítica a la idea de que la inmigración puede contribuir a frenar el descenso poblacional que se cierne sobre Europa.\\n\"La demografía es importante\", afirmó Musk. \"Mi consejo para todos los líderes es: asegúrense de tener hijos para las nuevas generaciones\" o el riesgo es que \"la cultura de Italia, Francia y Japón desaparezcan\", añadió. \"En Italia tenéis que tener hijos\", ha vuelto a repetir el multimillonario en una entrevista de esta semana. \"No creo que la inmigración pueda resolver los problemas del mundo solo porque alguien tenga hijos\", ha insistido, sin dejar de criticar también al movimiento ecologista.\\nLa relación entre los dos, en cualquier caso, ha ido creciendo a medida que crecían los negocios de Musk en Italia. En septiembre pasado, por ejemplo, le entregó a la italiana el Premio a la Ciudadanía Global, un reconocimiento otorgado por el Atlantic Council. Y eso lo hizo después de que su empresa Starlink firmara en junio un acuerdo con Telespazio, la joint venture de las compañías del sector de la defensa Leonardo (Italia) y Thales (Francia), y que en abril lograra otro pacto para llevar Internet a zonas remotas en Italia; siendo este, más que el militar, el proyecto que está actualmente en la fase más avanzada.\\nLo que se desconoce es el motivo exacto de la repentina acrimonia de Musk contra la justicia italiana, aunque la explicación tal vez pueda hallarse en sus propios líos judiciales en Italia. Es lo que dejan entrever los cada vez más agresivos mensajes de Musk después de que una investigación por corrupción de la fiscalía de Roma salpicara en octubre precisamente a su colaborador italiano, Stroppa (por la sospecha de que habría obtenido ilegalmente información confidencial de un oficial de la Marina italiana para favorecer a Musk). Algo que podría obstaculizar —o, al menos, frenar— los planes del multimillonario en Italia, más aún que la investigación sigue en curso.\\xa0\\nMeloni, por su parte, tampoco es nueva en la cercanía con personajes de la galaxia Trump. Ya durante la anterior presidencia de Trump, mantenía una relación con Steve Bannon, el exconsejero jefe del estadounidense, y también lo invitó a Atreju en 2018. Luego, en 2020, la italiana recibió directamente una invitación al Desayuno Nacional de Oración en Washington, donde Trump daba un discurso. Y, después de eso, elogió su \"defensa de la identidad, las fronteras, las empresas, los productos y las familias estadounidenses\", diciendo que quería \"llevar la misma receta a Italia\".\\nPero otra incógnita es también qué pasará cuando el nuevo presidente de EEUU empiece, como prevén diversos observadores en Italia, a intentar sembrar la división entre los países europeos. \"La vida de Meloni en Bruselas se podría complicar mucho más\", explicaba recientemente Stefano Stefanini, exembajador de Italia ante la OTAN. Otro punto de ruptura también podría venir de que no está nada claro que Italia quiera cumplir con su compromiso de gastar el 2% del PIB en defensa, añadía Nathalie Tocci, la directora del Instituto IAI de Roma. \"Trump tiene esa obsesión y podría preguntarle: ¿Tú cuánto estás gastando?\".\\nNoticia guardada en tu perfil\\nVer noticias guardadas\\nEl Periódico de Catalunya, S.L.U\\nOtras webs de Prensa Ibérica Media:',\n",
       "  'summary': ' el magnate Elon Musk le interesa Italia. y a la primera ministra giorgia Meloni le interesa Musk. \"Meloni y Musk tienen una relación privilegiada\", concluía días atrás uno de los colaboradores del surafricano , Andrea Stroppa , en declaraciones retomadas by el diario La Stampa. \"Estos jueces tienen que irse\", afirmó el magnate el martes , al respaldar a la ultraderechista en su batalla contra los tribunales italianos , que siguen rechazando el plan de la mandataria de deportar a migrantes a Albania. \"¿Viven los italianos en una democracia o una autocracia no electa toma las decisiones?\", insistió el miércoles , suscitando una ola de críticas en Italia. \"Meloni y Musk tienen una relación privilegiada\", concluía días atrás uno de los'}]"
      ]
     },
     "execution_count": 11,
     "metadata": {},
     "output_type": "execute_result"
    }
   ],
   "source": [
    "page_news_obj.articles"
   ]
  },
  {
   "cell_type": "code",
   "execution_count": null,
   "metadata": {},
   "outputs": [
    {
     "name": "stderr",
     "output_type": "stream",
     "text": [
      "Input ids are automatically padded from 1251 to 2048 to be a multiple of `config.attention_window`: 1024\n"
     ]
    },
    {
     "data": {
      "text/plain": [
       "' a takımını  5 Kasım\\'daki seçimlerden zaferle çıkan Donald Trump\\'ın A takımını Çin ve İran düşmanı şahinler ile siyonist fanatiklerle doldurması Ukrayna\\'da savaşı soğutma çalışmalarına hız vereceğini fakat Ortadoğu ve Asya-Pasifik cephesini ise daha da kızıştıracağını gösteriyor.Trump \"En ölümcül rakibimiz Çin ve İran\\'dır\" diyen eski ulusal istihbarat direktörü John Ratcliffe\\'i CIA\\'nın başına getirirken, \"Pekin bizim için varoluşsal bir tehdittir\" diyen eski ulusal istihbarat direktörü John Ratcliffe\\'i'"
      ]
     },
     "execution_count": 12,
     "metadata": {},
     "output_type": "execute_result"
    }
   ],
   "source": [
    "page_news_obj.fetch_page_summary()"
   ]
  }
 ],
 "metadata": {
  "kernelspec": {
   "display_name": ".venv",
   "language": "python",
   "name": "python3"
  },
  "language_info": {
   "codemirror_mode": {
    "name": "ipython",
    "version": 3
   },
   "file_extension": ".py",
   "mimetype": "text/x-python",
   "name": "python",
   "nbconvert_exporter": "python",
   "pygments_lexer": "ipython3",
   "version": "3.12.7"
  }
 },
 "nbformat": 4,
 "nbformat_minor": 2
}
