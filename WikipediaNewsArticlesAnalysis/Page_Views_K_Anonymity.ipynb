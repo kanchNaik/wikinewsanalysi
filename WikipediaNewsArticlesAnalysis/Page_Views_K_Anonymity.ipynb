{
  "nbformat": 4,
  "nbformat_minor": 0,
  "metadata": {
    "colab": {
      "provenance": []
    },
    "kernelspec": {
      "name": "python3",
      "display_name": "Python 3"
    },
    "language_info": {
      "name": "python"
    }
  },
  "cells": [
    {
      "cell_type": "code",
      "source": [
        "from google.colab import drive\n",
        "drive.mount('/content/drive')"
      ],
      "metadata": {
        "colab": {
          "base_uri": "https://localhost:8080/"
        },
        "id": "0c-teGMic1G5",
        "outputId": "20b42699-74b7-44a0-ff5d-3cbdc55e5da1"
      },
      "execution_count": 1,
      "outputs": [
        {
          "output_type": "stream",
          "name": "stdout",
          "text": [
            "Mounted at /content/drive\n"
          ]
        }
      ]
    },
    {
      "cell_type": "code",
      "execution_count": 1,
      "metadata": {
        "colab": {
          "base_uri": "https://localhost:8080/"
        },
        "id": "7qVoBzwWZsRI",
        "outputId": "41b2a9c0-8b7b-43c3-d072-dcaa8f21c223"
      },
      "outputs": [
        {
          "output_type": "stream",
          "name": "stdout",
          "text": [
            "Extracted 'en' lines have been saved to /content/drive/MyDrive/en_pageviews.txt\n"
          ]
        }
      ],
      "source": [
        "file_path = \"/content/drive/MyDrive/pageviews-20241104-user\"\n",
        "output_file = \"/content/drive/MyDrive/en_pageviews.txt\"\n",
        "\n",
        "def extract_and_save_en_lines(input_path, output_path):\n",
        "    try:\n",
        "        with open(input_path, 'r') as input_file, open(output_path, 'w') as output_file:\n",
        "            for line in input_file:\n",
        "                parts = line.split()\n",
        "                if parts and parts[0].startswith('en'):\n",
        "                    output_file.write(line)\n",
        "        print(f\"Extracted 'en' lines have been saved to {output_path}\")\n",
        "    except FileNotFoundError:\n",
        "        print(f\"Error: The file '{input_path}' was not found.\")\n",
        "    except IOError:\n",
        "        print(f\"Error: Unable to read or write the file.\")\n",
        "\n",
        "extract_and_save_en_lines(file_path, output_file)"
      ]
    },
    {
      "cell_type": "code",
      "source": [
        "from collections import defaultdict\n",
        "\n",
        "# Sample function to categorize a page based on its title\n",
        "def categorize_page(page_title):\n",
        "    if 'Main_Page' in page_title:\n",
        "        return 'Main'\n",
        "    else:\n",
        "        return 'Other'\n",
        "\n",
        "# Function to create a time bucket (e.g., hourly, daily)\n",
        "def get_time_bucket(timestamp):\n",
        "    # Using a simplified fixed time bucket for demonstration purposes\n",
        "    return '2024-11-26'  # Modify as needed to parse real timestamps\n",
        "\n",
        "# Function to group views by the specified attributes\n",
        "def group_by_attributes(views):\n",
        "    grouped = defaultdict(list)\n",
        "    for view in views:\n",
        "        key = (view['project_type'], view['page_category'], view['access_type'], view['time_bucket'])\n",
        "        grouped[key].append(view)\n",
        "    return grouped.values()\n",
        "\n",
        "# Function to further generalize a group with size < k\n",
        "def further_generalize(group):\n",
        "    generalized_group = []\n",
        "    for view in group:\n",
        "        generalized_view = {\n",
        "            'project_type': 'other',\n",
        "            'page_category': 'general',\n",
        "            'access_type': view['access_type'],\n",
        "            'time_bucket': view['time_bucket']\n",
        "        }\n",
        "        generalized_group.append(generalized_view)\n",
        "    return generalized_group\n",
        "\n",
        "# Main function to apply k-anonymity\n",
        "def apply_k_anonymity(pageviews, k=5):\n",
        "    generalized_views = []\n",
        "    for view in pageviews:\n",
        "        generalized_view = {\n",
        "            'project_type': view['project'].split('.')[1],  # e.g., 'wikibooks'\n",
        "            'page_category': categorize_page(view['page_title']),\n",
        "            'access_type': 'mobile' if 'mobile' in view['access_method'] else 'desktop',\n",
        "            'time_bucket': get_time_bucket(view['timestamp'])\n",
        "        }\n",
        "        generalized_views.append(generalized_view)\n",
        "\n",
        "    grouped_views = group_by_attributes(generalized_views)\n",
        "    anonymized_views = []\n",
        "\n",
        "    for group in grouped_views:\n",
        "        if len(group) >= k:\n",
        "            anonymized_views.extend(group)\n",
        "        else:\n",
        "            generalized_group = further_generalize(group)\n",
        "            anonymized_views.extend(generalized_group)\n",
        "\n",
        "    return anonymized_views\n",
        "\n",
        "# Function to read from a file and apply k-anonymity in batches\n",
        "def process_file(input_filename, output_filename, k=5, batch_size=1000):\n",
        "    batch = []\n",
        "    with open(input_filename, 'r') as infile, open(output_filename, 'w') as outfile:\n",
        "        for line in infile:\n",
        "            parts = line.strip().split(' ', 4)\n",
        "            if len(parts) >= 5:\n",
        "                project, page_title, access_method, timestamp, _ = parts\n",
        "                batch.append({\n",
        "                    'project': project,\n",
        "                    'page_title': page_title,\n",
        "                    'access_method': access_method,\n",
        "                    'timestamp': timestamp\n",
        "                })\n",
        "\n",
        "            # Process and write to the file in batches\n",
        "            if len(batch) >= batch_size:\n",
        "                anonymized_data = apply_k_anonymity(batch, k)\n",
        "                for view in anonymized_data:\n",
        "                    outfile.write(f\"{view['project_type']} {view['page_category']} {view['access_type']} {view['time_bucket']}\\n\")\n",
        "                batch.clear()\n",
        "\n",
        "        # Process any remaining data in the last batch\n",
        "        if batch:\n",
        "            anonymized_data = apply_k_anonymity(batch, k)\n",
        "            for view in anonymized_data:\n",
        "                outfile.write(f\"{view['project_type']} {view['page_category']} {view['access_type']} {view['time_bucket']}\\n\")\n",
        "\n",
        "# Example usage\n",
        "input_filename = '/content/drive/MyDrive/en_pageviews.txt'  # Replace with your actual input file name\n",
        "output_filename = '/content/drive/MyDrive/outputPageViewKanomity.txt'  # Replace with your desired output file name\n",
        "\n",
        "# Process the file and create the anonymized output in batches\n",
        "process_file(input_filename, output_filename, k=5, batch_size=1000)\n",
        "\n",
        "print(f\"Anonymized data written to {output_filename}\")\n"
      ],
      "metadata": {
        "colab": {
          "base_uri": "https://localhost:8080/"
        },
        "id": "Cu3aQYrfiCtO",
        "outputId": "c6ffe285-b609-409b-89d1-c822d71f54e9"
      },
      "execution_count": 1,
      "outputs": [
        {
          "output_type": "stream",
          "name": "stdout",
          "text": [
            "Anonymized data written to /content/drive/MyDrive/outputPageViewKanomity.txt\n"
          ]
        }
      ]
    }
  ]
}